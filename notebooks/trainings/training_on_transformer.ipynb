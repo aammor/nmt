{
 "cells": [
  {
   "cell_type": "markdown",
   "id": "d69a1e01",
   "metadata": {},
   "source": [
    "### 1) loading the dataset"
   ]
  },
  {
   "cell_type": "code",
   "execution_count": 6,
   "id": "f98dcdb4",
   "metadata": {
    "tags": [
     "parameters"
    ]
   },
   "outputs": [
    {
     "ename": "TypeError",
     "evalue": "tuple expected at most 1 argument, got 5",
     "output_type": "error",
     "traceback": [
      "\u001b[0;31m---------------------------------------------------------------------------\u001b[0m",
      "\u001b[0;31mTypeError\u001b[0m                                 Traceback (most recent call last)",
      "Cell \u001b[0;32mIn[6], line 26\u001b[0m\n\u001b[1;32m     23\u001b[0m momentum\u001b[38;5;241m=\u001b[39m\u001b[38;5;241m0.9\u001b[39m\n\u001b[1;32m     25\u001b[0m load_from_backup \u001b[38;5;241m=\u001b[39m \u001b[38;5;28;01mTrue\u001b[39;00m\n\u001b[0;32m---> 26\u001b[0m restore_from_backup \u001b[38;5;241m=\u001b[39m \u001b[38;5;28;43mtuple\u001b[39;49m\u001b[43m(\u001b[49m\u001b[38;5;124;43m\"\u001b[39;49m\u001b[38;5;124;43mmodel_params\u001b[39;49m\u001b[38;5;124;43m\"\u001b[39;49m\u001b[43m,\u001b[49m\u001b[38;5;124;43m\"\u001b[39;49m\u001b[38;5;124;43mscheduler\u001b[39;49m\u001b[38;5;124;43m\"\u001b[39;49m\u001b[43m,\u001b[49m\u001b[38;5;124;43m\"\u001b[39;49m\u001b[38;5;124;43moptimizer\u001b[39;49m\u001b[38;5;124;43m\"\u001b[39;49m\u001b[43m,\u001b[49m\u001b[38;5;124;43m\"\u001b[39;49m\u001b[38;5;124;43mlosses\u001b[39;49m\u001b[38;5;124;43m\"\u001b[39;49m\u001b[43m,\u001b[49m\u001b[38;5;124;43m\"\u001b[39;49m\u001b[38;5;124;43mmetrics\u001b[39;49m\u001b[38;5;124;43m\"\u001b[39;49m\u001b[43m)\u001b[49m\n\u001b[1;32m     28\u001b[0m \u001b[38;5;66;03m# by simple hyper\u001b[39;00m\n\u001b[1;32m     29\u001b[0m simple_hyper_parameters \u001b[38;5;241m=\u001b[39m \u001b[38;5;28mdict\u001b[39m(\n\u001b[1;32m     30\u001b[0m     batch_size\u001b[38;5;241m=\u001b[39m batch_size,\n\u001b[1;32m     31\u001b[0m     d_model \u001b[38;5;241m=\u001b[39m d_model,\n\u001b[0;32m   (...)\u001b[0m\n\u001b[1;32m     34\u001b[0m     early_stop_thresh \u001b[38;5;241m=\u001b[39m early_stop_thresh,\n\u001b[1;32m     35\u001b[0m     nb_epochs \u001b[38;5;241m=\u001b[39m nb_epochs)\n",
      "\u001b[0;31mTypeError\u001b[0m: tuple expected at most 1 argument, got 5"
     ]
    }
   ],
   "source": [
    "# convention : all new inputs parameters for the notebbok through papermil,\n",
    "# that are progressivelt added have a default value, equal to the one tha would be used in\n",
    "# order obtain the same results of scripts\n",
    "\n",
    "# two types of inputs: \n",
    "# inputs that influences the training (e.g hyper-paramteres, dataset set and splitting)\n",
    "# inputs that controls state of training (reset it or load from)\n",
    "\n",
    "batch_size= 10\n",
    "d_model = 32\n",
    "early_stopping_activated = False\n",
    "half_period_cycle = 5\n",
    "early_stop_thresh = 3*half_period_cycle\n",
    "nb_epochs = 300\n",
    "\n",
    "\n",
    "limit_length= 10\n",
    "use_splitting = False\n",
    "\n",
    "optimizer_option = \"AdamW\"\n",
    "base_lr = 0.00001\n",
    "max_lr = 0.001\n",
    "momentum=0.9\n",
    "\n",
    "load_from_backup = True\n",
    "restore_from_backup = tuple(\"model_params\",\"scheduler\",\"optimizer\",\"losses\",\"metrics\")\n",
    "\n",
    "# by simple hyper\n",
    "simple_hyper_parameters = dict(\n",
    "    batch_size= batch_size,\n",
    "    d_model = d_model,\n",
    "    early_stopping_activated = early_stopping_activated,\n",
    "    half_period_cycle = half_period_cycle,\n",
    "    early_stop_thresh = early_stop_thresh,\n",
    "    nb_epochs = nb_epochs)\n",
    "\n",
    "dataset_control = dict(\n",
    "limit_length= limit_length,\n",
    "use_splitting = use_splitting\n",
    ")\n",
    "\n",
    "\n",
    "optimization_control = dict(\n",
    "optimizer_option = optimizer_option,\n",
    "base_lr = base_lr,\n",
    "max_lr = max_lr,\n",
    "momentum=momentum\n",
    ")\n",
    "\n",
    "state_train_control = dict(\n",
    "load_from_backup = load_from_backup,\n",
    "restore_from_backup = restore_from_backup\n",
    ")\n"
   ]
  },
  {
   "cell_type": "code",
   "execution_count": 7,
   "id": "c81facf1",
   "metadata": {},
   "outputs": [],
   "source": [
    "from dataclasses import dataclass\n",
    "\n",
    "@dataclass\n",
    "class NotebookRun:\n",
    "    simple_hyper_parameters : dict\n",
    "    optimization_control : dict\n",
    "    dataset_control : dict\n",
    "    state_train_control : dict\n",
    "    \n",
    "    def __hash__(self):\n",
    "        tmp = tuple((\n",
    "            tuple(self.simple_hyper_parameters.items()),\n",
    "            tuple(self.optimization_control.items()),\n",
    "            tuple(self.dataset_control.items()),\n",
    "            tuple(self.state_train_control.items())         \n",
    "        ))\n",
    "        import pdb;pdb.set_trace()\n",
    "        hash_value = hash(tmp)\n",
    "        return hash_value\n",
    "    \n",
    "notebook_run = NotebookRun(simple_hyper_parameters,optimization_control,dataset_control,state_train_control)"
   ]
  },
  {
   "cell_type": "code",
   "execution_count": 3,
   "id": "927586b9",
   "metadata": {},
   "outputs": [
    {
     "name": "stdout",
     "output_type": "stream",
     "text": [
      "> \u001b[0;32m/tmp/ipykernel_26867/2474531233.py\u001b[0m(18)\u001b[0;36m__hash__\u001b[0;34m()\u001b[0m\n",
      "\u001b[0;32m     16 \u001b[0;31m        ))\n",
      "\u001b[0m\u001b[0;32m     17 \u001b[0;31m        \u001b[0;32mimport\u001b[0m \u001b[0mpdb\u001b[0m\u001b[0;34m;\u001b[0m\u001b[0mpdb\u001b[0m\u001b[0;34m.\u001b[0m\u001b[0mset_trace\u001b[0m\u001b[0;34m(\u001b[0m\u001b[0;34m)\u001b[0m\u001b[0;34m\u001b[0m\u001b[0;34m\u001b[0m\u001b[0m\n",
      "\u001b[0m\u001b[0;32m---> 18 \u001b[0;31m        \u001b[0mhash_value\u001b[0m \u001b[0;34m=\u001b[0m \u001b[0mhash\u001b[0m\u001b[0;34m(\u001b[0m\u001b[0mtmp\u001b[0m\u001b[0;34m)\u001b[0m\u001b[0;34m\u001b[0m\u001b[0;34m\u001b[0m\u001b[0m\n",
      "\u001b[0m\u001b[0;32m     19 \u001b[0;31m        \u001b[0;32mreturn\u001b[0m \u001b[0mhash_value\u001b[0m\u001b[0;34m\u001b[0m\u001b[0;34m\u001b[0m\u001b[0m\n",
      "\u001b[0m\u001b[0;32m     20 \u001b[0;31m\u001b[0;34m\u001b[0m\u001b[0m\n",
      "\u001b[0m\n",
      "ipdb> hash(tmp[-1])\n",
      "*** TypeError: unhashable type: 'list'\n",
      "ipdb> hash(tmp[-3])\n",
      "7588681613226296639\n",
      "ipdb> hash(tmp[3])\n",
      "*** TypeError: unhashable type: 'list'\n",
      "ipdb> hash(tmp[-1])\n",
      "*** TypeError: unhashable type: 'list'\n",
      "ipdb> tmp[-1]\n",
      "(('load_from_backup', True), ('restore_from_backup', ['model_params', 'scheduler', 'optimizer', 'losses', 'metrics']))\n",
      "ipdb> exit\n"
     ]
    }
   ],
   "source": [
    "hash(notebook_run)"
   ]
  },
  {
   "cell_type": "code",
   "execution_count": null,
   "id": "0cd24597",
   "metadata": {},
   "outputs": [],
   "source": [
    "# prepare the training parameters to be saved\n",
    "\n",
    "from collections import namedtuple\n",
    "SimpleHyperParams = namedtuple('SimpleHyperParams',['batch_size',\n",
    "                                              'd_model',\n",
    "                                             'early_stopping_activated',\n",
    "                                             'half_period_cycle',\n",
    "                                             'early_stop_thresh',\n",
    "                                             'nb_epochs'])\n",
    "\n",
    "DatasetControl = namedtuple('DatasetControl',['limit_length','use_splitting'])\n",
    "\n",
    "Optimization = namedtuple('OptimisationParams',['optimizer_option','base_lr','max_lr','momentum'])\n",
    "\n",
    "StateTrainControl = namedtuple('StateTrainControl',['load_from_backup','restore_from_backup'])\n",
    "\n",
    "\n",
    "simple_hyper_parameters = HyperParams(**simple_hyper_parameters) #TO add\n",
    "\n",
    "optimization_control = Optimization(**optimization_control)\n",
    "\n",
    "dataset_control = DatasetControl(**dataset_control)\n",
    "\n",
    "state_train_control = StateTrainControl(**state_train_control)\n"
   ]
  },
  {
   "cell_type": "code",
   "execution_count": null,
   "id": "1fa29b04",
   "metadata": {},
   "outputs": [],
   "source": [
    "from translation_machine import dataset_mod,sentence_mod\n",
    "\n",
    "import numpy as np\n",
    "import torch\n",
    "\n",
    "language_info = torch.load(\"../../models/language_info.pth\")\n",
    "\n",
    "vocab_french = language_info[\"french\"][\"vocab\"]\n",
    "vocab_english = language_info[\"english\"][\"vocab\"]\n",
    "\n",
    "max_length_french = language_info[\"french\"][\"max_sentence_train_val\"]\n",
    "max_length_english = language_info[\"english\"][\"max_sentence_train_val\"]\n",
    "\n",
    "\n",
    "whole_dataset = dataset_mod.DatasetFromTxt(\"../../data/french_english_dataset/fra.txt\")\n",
    "\n",
    "idxs_whole = np.arange(limit_length)\n",
    "dataset = torch.utils.data.Subset(whole_dataset,idxs_whole)"
   ]
  },
  {
   "cell_type": "code",
   "execution_count": null,
   "id": "93aecd31",
   "metadata": {},
   "outputs": [],
   "source": [
    "dataset = list(dataset_mod.SentenceDataSet(dataset,sentence_type_src=sentence_mod.EnglishSentence,sentence_type_dst=sentence_mod.FrenchSentence))\n",
    "len(dataset)"
   ]
  },
  {
   "cell_type": "code",
   "execution_count": null,
   "id": "a14419b7",
   "metadata": {},
   "outputs": [],
   "source": [
    "# Remark : the responsability to split the dataset is done outside of this notebook\n",
    "if use_splitting:\n",
    "    idxs_train = np.load(\"../../dataset_splitting/idx_train.npy\")\n",
    "    idxs_val = np.load(\"../../dataset_splitting/idx_val.npy\")\n",
    "    idxs_test = np.load(\"../../dataset_splitting/idx_test.npy\")\n",
    "\n",
    "    idxs_train,idxs_val,idxs_test = [[idx for idx in idxs if idx<len(whole_dataset)] for idxs in [idxs_train,idxs_val,idxs_test]]\n",
    "    idxs_train = set(idxs_whole).intersection(set(idxs_train))\n",
    "    idxs_val = set(idxs_whole).intersection(set(idxs_val))\n",
    "    idxs_test = set(idxs_whole).intersection(set(idxs_test))\n",
    "    \n",
    "else:\n",
    "    idxs_train = idxs_whole\n",
    "    idxs_val = idxs_whole\n",
    "    idxs_test = idxs_whole\n",
    "\n",
    "train_dataset = torch.utils.data.Subset(dataset,idxs_train)\n",
    "val_dataset = torch.utils.data.Subset(dataset,idxs_val)\n",
    "test_dataset = torch.utils.data.Subset(dataset,idxs_test)"
   ]
  },
  {
   "cell_type": "markdown",
   "id": "deb11c95",
   "metadata": {},
   "source": [
    "### 2) creation the vocabulary"
   ]
  },
  {
   "cell_type": "code",
   "execution_count": null,
   "id": "eb015efd",
   "metadata": {},
   "outputs": [],
   "source": [
    "from translation_machine import collate_fn_mod\n",
    "\n",
    "import torch\n",
    "from torch.utils.data import DataLoader\n",
    "import numpy as np\n",
    "\n",
    "collate_fn = collate_fn_mod.get_collate_fn(max_length_english,max_length_french)\n",
    "\n",
    "\n",
    "train_data_loader = DataLoader(train_dataset,batch_size=batch_size,shuffle=True,collate_fn=collate_fn)\n",
    "val_data_loader = DataLoader(val_dataset,batch_size=batch_size,shuffle=True,collate_fn=collate_fn)"
   ]
  },
  {
   "cell_type": "code",
   "execution_count": null,
   "id": "5ea068a7",
   "metadata": {},
   "outputs": [],
   "source": [
    "len(vocab_french.vocab.itos_),len(vocab_english.vocab.itos_)"
   ]
  },
  {
   "cell_type": "code",
   "execution_count": null,
   "id": "a907485b",
   "metadata": {},
   "outputs": [],
   "source": [
    "from translation_machine.models import transformer_mod\n",
    "\n",
    "\n",
    "\n",
    "model_inputs = {\n",
    "    \"d_model\":d_model,\n",
    "    \"vocab_src\":sentence_mod.EnglishSentence.vocab,\n",
    "    \"vocab_tgt\":sentence_mod.FrenchSentence.vocab,\n",
    "}\n",
    "\n",
    "model = transformer_mod.TransformerForSeq2Seq(**model_inputs)\n"
   ]
  },
  {
   "cell_type": "code",
   "execution_count": null,
   "id": "4b32119b",
   "metadata": {},
   "outputs": [],
   "source": [
    "from torch import optim\n",
    "from translation_machine import model_trainer\n",
    "\n",
    "from torch import nn\n",
    "baseline_loss = nn.CrossEntropyLoss(reduction=\"sum\")\n",
    "\n",
    "\n",
    "if optimizer_option == \"AdamW\":\n",
    "    optimizer = torch.optim.NAdam(model.parameters(), lr=base_lr)\n",
    "elif optimizer_option == \"SGD\":\n",
    "    optimizer = torch.optim.SGD(model.parameters(), lr=base_lr, momentum=momentum)\n",
    "else:\n",
    "    raise ValueError\n",
    "scheduler = torch.optim.lr_scheduler.CyclicLR(optimizer,step_size_up=half_period_cycle , base_lr=base_lr, max_lr=max_lr,cycle_momentum=False)\n",
    "#scheduler = torch.optim.lr_scheduler.CyclicLR(optimizer,step_size_up=half_period_cycle , base_lr=base_lr, max_lr=max_lr)\n",
    "model_trainer = model_trainer.ModelTrainer(model,optimizer,scheduler,train_data_loader,val_data_loader,baseline_loss)\n"
   ]
  },
  {
   "cell_type": "code",
   "execution_count": null,
   "id": "dfb3966f",
   "metadata": {},
   "outputs": [],
   "source": [
    "from tqdm import tqdm\n",
    "model.train()\n",
    "losses = {\"train\":[],\"val\":[]}\n",
    "metrics = {\"train\":[],\"val\":[]}\n"
   ]
  },
  {
   "cell_type": "code",
   "execution_count": null,
   "id": "54aec05a",
   "metadata": {
    "scrolled": true
   },
   "outputs": [],
   "source": [
    "from pathlib import Path\n",
    "import torch\n",
    "path_model_and_dependencies = \"../../models/sequence_translator_transformer_over_fitted_adamw.pth\"\n",
    "\n",
    "if load_from_backup and Path(path_model_and_dependencies).exists():\n",
    "    back_up = torch.load(path_model_and_dependencies)\n",
    "    for el1,el2 in zip([model,scheduler,optimizer,scheduler,losses,metrics],\n",
    "                      [\"model_params\",\"scheduler\",\"optimizer\",\"losses\",\"metrics\"]):\n",
    "        if el2 in restore_from_backup:\n",
    "            if el2 == \"losses\":\n",
    "                losses = back_up[el2]\n",
    "            elif el2 == \"metrics\":\n",
    "                metrics = back_up[el2]\n",
    "            else:\n",
    "                el1.load_state_dict(back_up[el2])\n",
    "                \n",
    "    print(\"model loaded\")"
   ]
  },
  {
   "cell_type": "code",
   "execution_count": null,
   "id": "1f43be39",
   "metadata": {},
   "outputs": [],
   "source": [
    "import matplotlib.pyplot as plt\n",
    "\n",
    "best_loss_val_mean = np.inf\n",
    "best_epoch = scheduler.last_epoch\n",
    "\n",
    "for epoch in tqdm(range(nb_epochs)):\n",
    "    #import time\n",
    "    #start = time.time()\n",
    "    print(f\"optimizing for epoch {epoch}\")\n",
    "    print(\"training_step\")\n",
    "    loss_train,nb_words_per_batch_train,metric_train = model_trainer.train_on_epoch()\n",
    "    \n",
    "    print(\"validation_step\")\n",
    "    loss_val,nb_words_per_batch_val,metric_val = model_trainer.validate_on_epoch()\n",
    "\n",
    "    loss_train = np.array([float(el) for el in loss_train])\n",
    "    loss_val = np.array([float(el) for el in loss_val])\n",
    "    train_weights = 1/sum(nb_words_per_batch_train)\n",
    "    val_weights = 1/sum(nb_words_per_batch_val)\n",
    "    \n",
    "    \n",
    "        \n",
    "    losses[\"train\"].append(np.sum(loss_train)/sum(nb_words_per_batch_train))\n",
    "    losses[\"val\"].append(np.sum(loss_val)/sum(nb_words_per_batch_val))\n",
    "    metrics[\"train\"].append(metric_train)\n",
    "    metrics[\"val\"].append(metric_val)\n",
    "    \n",
    "    current_loss_val_mean = np.mean(loss_val)\n",
    "    \n",
    "    if (current_loss_val_mean < best_loss_val_mean):\n",
    "        best_epoch = scheduler.last_epoch\n",
    "        best_loss_val_mean = current_loss_val_mean\n",
    "\n",
    "        state_dict_extended = {\"model_params\":model_trainer.model.state_dict(),\n",
    "                               \"model_inputs\":model_inputs,\n",
    "                              \"optimizer\":optimizer.state_dict(),\n",
    "                              \"scheduler\":scheduler.state_dict(),\n",
    "                              \"losses\":losses,\n",
    "                              \"metrics\":metrics\n",
    "                              }\n",
    "        \n",
    "        torch.save(state_dict_extended,path_model_and_dependencies)\n",
    "        print(f\"saving for epoch {epoch}\")\n",
    "\n",
    "        plt.plot(losses[\"train\"],\"b*\")\n",
    "        plt.plot(losses[\"val\"],\"g*\")\n",
    "        plt.title(\"losses\")\n",
    "        plt.show()        \n",
    "        #plt.figure()\n",
    "        #plt.plot(metrics[\"train\"],\"b*\")\n",
    "        #plt.plot(metrics[\"val\"],\"g*\")\n",
    "        #plt.title(\"bleu score\")\n",
    "        #plt.show()\n",
    "    elif epoch - best_epoch > early_stop_thresh  and early_stopping_activated:\n",
    "        print(\"Early stopped training at epoch %d\" % epoch)\n",
    "        break  # terminate the training loop\n",
    "    #stop = time.time()\n",
    "    #print(stop-start)\n",
    "\n",
    "    del loss_train,nb_words_per_batch_train,metric_train\n",
    "\n",
    "    del loss_val,nb_words_per_batch_val,metric_val\n"
   ]
  },
  {
   "cell_type": "code",
   "execution_count": null,
   "id": "2571b27e",
   "metadata": {
    "scrolled": true
   },
   "outputs": [],
   "source": [
    "import matplotlib.pyplot as plt\n",
    "plt.plot(losses[\"train\"],\"b*\")\n",
    "plt.plot(losses[\"val\"],\"g*\")\n",
    "plt.title(\"losses\")\n",
    "plt.show()        "
   ]
  },
  {
   "cell_type": "code",
   "execution_count": null,
   "id": "9583b247",
   "metadata": {},
   "outputs": [],
   "source": []
  }
 ],
 "metadata": {
  "kernelspec": {
   "display_name": "Python 3 (ipykernel)",
   "language": "python",
   "name": "python3"
  },
  "language_info": {
   "codemirror_mode": {
    "name": "ipython",
    "version": 3
   },
   "file_extension": ".py",
   "mimetype": "text/x-python",
   "name": "python",
   "nbconvert_exporter": "python",
   "pygments_lexer": "ipython3",
   "version": "3.9.12"
  },
  "vscode": {
   "interpreter": {
    "hash": "5c7b89af1651d0b8571dde13640ecdccf7d5a6204171d6ab33e7c296e100e08a"
   }
  }
 },
 "nbformat": 4,
 "nbformat_minor": 5
}
