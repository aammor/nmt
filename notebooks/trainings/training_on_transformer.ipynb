{
 "cells": [
  {
   "cell_type": "markdown",
   "id": "d69a1e01",
   "metadata": {},
   "source": [
    "### 1) loading the dataset"
   ]
  },
  {
   "cell_type": "code",
   "execution_count": 13,
   "id": "f98dcdb4",
   "metadata": {},
   "outputs": [],
   "source": [
    "limit_length= 10\n",
    "batch_size= 10\n",
    "d_model = 32\n",
    "load_from_backup = True\n",
    "use_splitting = False\n",
    "early_stopping_activated = False\n",
    "half_period_cycle = 5\n",
    "early_stop_thresh = 3*half_period_cycle\n",
    "nb_epochs = 300\n",
    "\n",
    "optimizer_option = \"AdamW\"\n",
    "base_lr = 0.00001\n",
    "max_lr = 0.001\n",
    "momentum=0.9\n",
    "\n",
    "restore_from_backup = [\"model_params\",\"scheduler\",\"optimizer\",\"losses\",\"metrics\"]"
   ]
  },
  {
   "cell_type": "code",
   "execution_count": 14,
   "id": "1fa29b04",
   "metadata": {},
   "outputs": [],
   "source": [
    "from translation_machine import dataset_mod,sentence_mod\n",
    "\n",
    "import numpy as np\n",
    "import torch\n",
    "\n",
    "language_info = torch.load(\"../../models/language_info.pth\")\n",
    "\n",
    "vocab_french = language_info[\"french\"][\"vocab\"]\n",
    "vocab_english = language_info[\"english\"][\"vocab\"]\n",
    "\n",
    "max_length_french = language_info[\"french\"][\"max_sentence_train_val\"]\n",
    "max_length_english = language_info[\"english\"][\"max_sentence_train_val\"]\n",
    "\n",
    "\n",
    "whole_dataset = dataset_mod.DatasetFromTxt(\"../../data/french_english_dataset/fra.txt\")\n",
    "\n",
    "idxs_whole = np.arange(limit_length)\n",
    "dataset = torch.utils.data.Subset(whole_dataset,idxs_whole)"
   ]
  },
  {
   "cell_type": "code",
   "execution_count": 15,
   "id": "93aecd31",
   "metadata": {},
   "outputs": [
    {
     "data": {
      "text/plain": [
       "10"
      ]
     },
     "execution_count": 15,
     "metadata": {},
     "output_type": "execute_result"
    }
   ],
   "source": [
    "dataset = list(dataset_mod.SentenceDataSet(dataset,sentence_type_src=sentence_mod.EnglishSentence,sentence_type_dst=sentence_mod.FrenchSentence))\n",
    "len(dataset)"
   ]
  },
  {
   "cell_type": "code",
   "execution_count": 16,
   "id": "a14419b7",
   "metadata": {},
   "outputs": [],
   "source": [
    "# Remark : the responsability to split the dataset is done outside of this notebook\n",
    "if use_splitting:\n",
    "    idxs_train = np.load(\"../../dataset_splitting/idx_train.npy\")\n",
    "    idxs_val = np.load(\"../../dataset_splitting/idx_val.npy\")\n",
    "    idxs_test = np.load(\"../../dataset_splitting/idx_test.npy\")\n",
    "\n",
    "    idxs_train,idxs_val,idxs_test = [[idx for idx in idxs if idx<len(whole_dataset)] for idxs in [idxs_train,idxs_val,idxs_test]]\n",
    "    idxs_train = set(idxs_whole).intersection(set(idxs_train))\n",
    "    idxs_val = set(idxs_whole).intersection(set(idxs_val))\n",
    "    idxs_test = set(idxs_whole).intersection(set(idxs_test))\n",
    "    \n",
    "else:\n",
    "    idxs_train = idxs_whole\n",
    "    idxs_val = idxs_whole\n",
    "    idxs_test = idxs_whole\n",
    "\n",
    "train_dataset = torch.utils.data.Subset(dataset,idxs_train)\n",
    "val_dataset = torch.utils.data.Subset(dataset,idxs_val)\n",
    "test_dataset = torch.utils.data.Subset(dataset,idxs_test)"
   ]
  },
  {
   "cell_type": "markdown",
   "id": "deb11c95",
   "metadata": {},
   "source": [
    "### 2) creation the vocabulary"
   ]
  },
  {
   "cell_type": "code",
   "execution_count": 17,
   "id": "eb015efd",
   "metadata": {},
   "outputs": [],
   "source": [
    "from translation_machine import collate_fn_mod\n",
    "\n",
    "import torch\n",
    "from torch.utils.data import DataLoader\n",
    "import numpy as np\n",
    "\n",
    "collate_fn = collate_fn_mod.get_collate_fn(max_length_english,max_length_french)\n",
    "\n",
    "\n",
    "train_data_loader = DataLoader(train_dataset,batch_size=batch_size,shuffle=True,collate_fn=collate_fn)\n",
    "val_data_loader = DataLoader(val_dataset,batch_size=batch_size,shuffle=True,collate_fn=collate_fn)"
   ]
  },
  {
   "cell_type": "code",
   "execution_count": 18,
   "id": "5ea068a7",
   "metadata": {},
   "outputs": [
    {
     "data": {
      "text/plain": [
       "(5407, 4076)"
      ]
     },
     "execution_count": 18,
     "metadata": {},
     "output_type": "execute_result"
    }
   ],
   "source": [
    "len(vocab_french.vocab.itos_),len(vocab_english.vocab.itos_)"
   ]
  },
  {
   "cell_type": "code",
   "execution_count": 19,
   "id": "a907485b",
   "metadata": {},
   "outputs": [],
   "source": [
    "from translation_machine.models import transformer_mod\n",
    "\n",
    "\n",
    "\n",
    "model_inputs = {\n",
    "    \"d_model\":d_model,\n",
    "    \"vocab_src\":sentence_mod.EnglishSentence.vocab,\n",
    "    \"vocab_tgt\":sentence_mod.FrenchSentence.vocab,\n",
    "}\n",
    "\n",
    "model = transformer_mod.TransformerForSeq2Seq(**model_inputs)\n"
   ]
  },
  {
   "cell_type": "code",
   "execution_count": 33,
   "id": "156f59bd",
   "metadata": {},
   "outputs": [],
   "source": [
    "optimizer = torch.optim.NAdam(model.parameters(), lr=base_lr)"
   ]
  },
  {
   "cell_type": "code",
   "execution_count": 27,
   "id": "eef5e003",
   "metadata": {},
   "outputs": [
    {
     "ename": "ValueError",
     "evalue": "optimizer must support momentum with `cycle_momentum` option enabled",
     "output_type": "error",
     "traceback": [
      "\u001b[0;31m---------------------------------------------------------------------------\u001b[0m",
      "\u001b[0;31mValueError\u001b[0m                                Traceback (most recent call last)",
      "Cell \u001b[0;32mIn[27], line 2\u001b[0m\n\u001b[1;32m      1\u001b[0m optimizer \u001b[38;5;241m=\u001b[39m torch\u001b[38;5;241m.\u001b[39moptim\u001b[38;5;241m.\u001b[39mNAdam(model\u001b[38;5;241m.\u001b[39mparameters(), lr\u001b[38;5;241m=\u001b[39mbase_lr)\n\u001b[0;32m----> 2\u001b[0m \u001b[43mtorch\u001b[49m\u001b[38;5;241;43m.\u001b[39;49m\u001b[43moptim\u001b[49m\u001b[38;5;241;43m.\u001b[39;49m\u001b[43mlr_scheduler\u001b[49m\u001b[38;5;241;43m.\u001b[39;49m\u001b[43mCyclicLR\u001b[49m\u001b[43m(\u001b[49m\u001b[43moptimizer\u001b[49m\u001b[43m,\u001b[49m\u001b[43mbase_lr\u001b[49m\u001b[43m,\u001b[49m\u001b[38;5;241;43m100\u001b[39;49m\u001b[38;5;241;43m*\u001b[39;49m\u001b[43mbase_lr\u001b[49m\u001b[43m)\u001b[49m\n",
      "File \u001b[0;32m~/miniconda/lib/python3.9/site-packages/torch/optim/lr_scheduler.py:1231\u001b[0m, in \u001b[0;36mCyclicLR.__init__\u001b[0;34m(self, optimizer, base_lr, max_lr, step_size_up, step_size_down, mode, gamma, scale_fn, scale_mode, cycle_momentum, base_momentum, max_momentum, last_epoch, verbose)\u001b[0m\n\u001b[1;32m   1229\u001b[0m \u001b[38;5;28;01mif\u001b[39;00m cycle_momentum:\n\u001b[1;32m   1230\u001b[0m     \u001b[38;5;28;01mif\u001b[39;00m \u001b[38;5;124m'\u001b[39m\u001b[38;5;124mmomentum\u001b[39m\u001b[38;5;124m'\u001b[39m \u001b[38;5;129;01mnot\u001b[39;00m \u001b[38;5;129;01min\u001b[39;00m optimizer\u001b[38;5;241m.\u001b[39mdefaults:\n\u001b[0;32m-> 1231\u001b[0m         \u001b[38;5;28;01mraise\u001b[39;00m \u001b[38;5;167;01mValueError\u001b[39;00m(\u001b[38;5;124m'\u001b[39m\u001b[38;5;124moptimizer must support momentum with `cycle_momentum` option enabled\u001b[39m\u001b[38;5;124m'\u001b[39m)\n\u001b[1;32m   1233\u001b[0m     base_momentums \u001b[38;5;241m=\u001b[39m \u001b[38;5;28mself\u001b[39m\u001b[38;5;241m.\u001b[39m_format_param(\u001b[38;5;124m'\u001b[39m\u001b[38;5;124mbase_momentum\u001b[39m\u001b[38;5;124m'\u001b[39m, optimizer, base_momentum)\n\u001b[1;32m   1234\u001b[0m     \u001b[38;5;28;01mif\u001b[39;00m last_epoch \u001b[38;5;241m==\u001b[39m \u001b[38;5;241m-\u001b[39m\u001b[38;5;241m1\u001b[39m:\n",
      "\u001b[0;31mValueError\u001b[0m: optimizer must support momentum with `cycle_momentum` option enabled"
     ]
    }
   ],
   "source": [
    "optimizer = torch.optim.NAdam(model.parameters(), lr=base_lr)\n",
    "torch.optim.lr_scheduler.CyclicLR(optimizer,base_lr,100*base_lr)"
   ]
  },
  {
   "cell_type": "code",
   "execution_count": 24,
   "id": "4b32119b",
   "metadata": {},
   "outputs": [
    {
     "ename": "ValueError",
     "evalue": "optimizer must support momentum with `cycle_momentum` option enabled",
     "output_type": "error",
     "traceback": [
      "\u001b[0;31m---------------------------------------------------------------------------\u001b[0m",
      "\u001b[0;31mValueError\u001b[0m                                Traceback (most recent call last)",
      "Cell \u001b[0;32mIn[24], line 14\u001b[0m\n\u001b[1;32m     12\u001b[0m \u001b[38;5;28;01melse\u001b[39;00m:\n\u001b[1;32m     13\u001b[0m     \u001b[38;5;28;01mraise\u001b[39;00m \u001b[38;5;167;01mValueError\u001b[39;00m\n\u001b[0;32m---> 14\u001b[0m scheduler \u001b[38;5;241m=\u001b[39m \u001b[43mtorch\u001b[49m\u001b[38;5;241;43m.\u001b[39;49m\u001b[43moptim\u001b[49m\u001b[38;5;241;43m.\u001b[39;49m\u001b[43mlr_scheduler\u001b[49m\u001b[38;5;241;43m.\u001b[39;49m\u001b[43mCyclicLR\u001b[49m\u001b[43m(\u001b[49m\u001b[43moptimizer\u001b[49m\u001b[43m,\u001b[49m\u001b[43mstep_size_up\u001b[49m\u001b[38;5;241;43m=\u001b[39;49m\u001b[43mhalf_period_cycle\u001b[49m\u001b[43m \u001b[49m\u001b[43m,\u001b[49m\u001b[43m \u001b[49m\u001b[43mbase_lr\u001b[49m\u001b[38;5;241;43m=\u001b[39;49m\u001b[43mbase_lr\u001b[49m\u001b[43m,\u001b[49m\u001b[43m \u001b[49m\u001b[43mmax_lr\u001b[49m\u001b[38;5;241;43m=\u001b[39;49m\u001b[43mmax_lr\u001b[49m\u001b[43m)\u001b[49m\n\u001b[1;32m     15\u001b[0m model_trainer \u001b[38;5;241m=\u001b[39m model_trainer\u001b[38;5;241m.\u001b[39mModelTrainer(model,optimizer,scheduler,train_data_loader,val_data_loader,baseline_loss)\n",
      "File \u001b[0;32m~/miniconda/lib/python3.9/site-packages/torch/optim/lr_scheduler.py:1231\u001b[0m, in \u001b[0;36mCyclicLR.__init__\u001b[0;34m(self, optimizer, base_lr, max_lr, step_size_up, step_size_down, mode, gamma, scale_fn, scale_mode, cycle_momentum, base_momentum, max_momentum, last_epoch, verbose)\u001b[0m\n\u001b[1;32m   1229\u001b[0m \u001b[38;5;28;01mif\u001b[39;00m cycle_momentum:\n\u001b[1;32m   1230\u001b[0m     \u001b[38;5;28;01mif\u001b[39;00m \u001b[38;5;124m'\u001b[39m\u001b[38;5;124mmomentum\u001b[39m\u001b[38;5;124m'\u001b[39m \u001b[38;5;129;01mnot\u001b[39;00m \u001b[38;5;129;01min\u001b[39;00m optimizer\u001b[38;5;241m.\u001b[39mdefaults:\n\u001b[0;32m-> 1231\u001b[0m         \u001b[38;5;28;01mraise\u001b[39;00m \u001b[38;5;167;01mValueError\u001b[39;00m(\u001b[38;5;124m'\u001b[39m\u001b[38;5;124moptimizer must support momentum with `cycle_momentum` option enabled\u001b[39m\u001b[38;5;124m'\u001b[39m)\n\u001b[1;32m   1233\u001b[0m     base_momentums \u001b[38;5;241m=\u001b[39m \u001b[38;5;28mself\u001b[39m\u001b[38;5;241m.\u001b[39m_format_param(\u001b[38;5;124m'\u001b[39m\u001b[38;5;124mbase_momentum\u001b[39m\u001b[38;5;124m'\u001b[39m, optimizer, base_momentum)\n\u001b[1;32m   1234\u001b[0m     \u001b[38;5;28;01mif\u001b[39;00m last_epoch \u001b[38;5;241m==\u001b[39m \u001b[38;5;241m-\u001b[39m\u001b[38;5;241m1\u001b[39m:\n",
      "\u001b[0;31mValueError\u001b[0m: optimizer must support momentum with `cycle_momentum` option enabled"
     ]
    }
   ],
   "source": [
    "from torch import optim\n",
    "from translation_machine import model_trainer\n",
    "\n",
    "from torch import nn\n",
    "baseline_loss = nn.CrossEntropyLoss(reduction=\"sum\")\n",
    "\n",
    "\n",
    "if optimizer_option == \"AdamW\":\n",
    "    optimizer = torch.optim.NAdam(model.parameters(), lr=base_lr)\n",
    "elif optimizer_option == \"SGD\":\n",
    "    optimizer = torch.optim.SGD(model.parameters(), lr=base_lr, momentum=momentum)\n",
    "else:\n",
    "    raise ValueError\n",
    "scheduler = torch.optim.lr_scheduler.CyclicLR(optimizer,step_size_up=half_period_cycle , base_lr=base_lr, max_lr=max_lr)\n",
    "model_trainer = model_trainer.ModelTrainer(model,optimizer,scheduler,train_data_loader,val_data_loader,baseline_loss)\n"
   ]
  },
  {
   "cell_type": "code",
   "execution_count": null,
   "id": "dfb3966f",
   "metadata": {},
   "outputs": [],
   "source": [
    "from tqdm import tqdm\n",
    "model.train()\n",
    "losses = {\"train\":[],\"val\":[]}\n",
    "metrics = {\"train\":[],\"val\":[]}\n"
   ]
  },
  {
   "cell_type": "code",
   "execution_count": null,
   "id": "54aec05a",
   "metadata": {
    "scrolled": true
   },
   "outputs": [],
   "source": [
    "from pathlib import Path\n",
    "import torch\n",
    "path_model_and_dependencies = \"../../models/sequence_translator_transformer_over_fitted_adamw.pth\"\n",
    "\n",
    "if load_from_backup and Path(path_model_and_dependencies).exists():\n",
    "    back_up = torch.load(path_model_and_dependencies)\n",
    "    for el1,el2 in zip([model,scheduler,optimizer,scheduler,losses,metrics],\n",
    "                      [\"model_params\",\"scheduler\",\"optimizer\",\"losses\",\"metrics\"]):\n",
    "        if el2 in restore_from_backup:\n",
    "            if el2 == \"losses\":\n",
    "                losses = back_up[el2]\n",
    "            elif el2 == \"metrics\":\n",
    "                metrics = back_up[el2]\n",
    "            else:\n",
    "                el1.load_state_dict(back_up[el2])\n",
    "                \n",
    "    print(\"model loaded\")"
   ]
  },
  {
   "cell_type": "code",
   "execution_count": null,
   "id": "1f43be39",
   "metadata": {},
   "outputs": [],
   "source": [
    "import matplotlib.pyplot as plt\n",
    "\n",
    "best_loss_val_mean = np.inf\n",
    "best_epoch = scheduler.last_epoch\n",
    "\n",
    "for epoch in tqdm(range(nb_epochs)):\n",
    "    #import time\n",
    "    #start = time.time()\n",
    "    print(f\"optimizing for epoch {epoch}\")\n",
    "    print(\"training_step\")\n",
    "    loss_train,nb_words_per_batch_train,metric_train = model_trainer.train_on_epoch()\n",
    "    \n",
    "    print(\"validation_step\")\n",
    "    loss_val,nb_words_per_batch_val,metric_val = model_trainer.validate_on_epoch()\n",
    "\n",
    "    loss_train = np.array([float(el) for el in loss_train])\n",
    "    loss_val = np.array([float(el) for el in loss_val])\n",
    "    train_weights = 1/sum(nb_words_per_batch_train)\n",
    "    val_weights = 1/sum(nb_words_per_batch_val)\n",
    "    \n",
    "    \n",
    "        \n",
    "    losses[\"train\"].append(np.sum(loss_train)/sum(nb_words_per_batch_train))\n",
    "    losses[\"val\"].append(np.sum(loss_val)/sum(nb_words_per_batch_val))\n",
    "    metrics[\"train\"].append(metric_train)\n",
    "    metrics[\"val\"].append(metric_val)\n",
    "    \n",
    "    current_loss_val_mean = np.mean(loss_val)\n",
    "    \n",
    "    if (current_loss_val_mean < best_loss_val_mean):\n",
    "        best_epoch = scheduler.last_epoch\n",
    "        best_loss_val_mean = current_loss_val_mean\n",
    "\n",
    "        state_dict_extended = {\"model_params\":model_trainer.model.state_dict(),\n",
    "                               \"model_inputs\":model_inputs,\n",
    "                              \"optimizer\":optimizer.state_dict(),\n",
    "                              \"scheduler\":scheduler.state_dict(),\n",
    "                              \"losses\":losses,\n",
    "                              \"metrics\":metrics\n",
    "                              }\n",
    "        \n",
    "        torch.save(state_dict_extended,path_model_and_dependencies)\n",
    "        print(f\"saving for epoch {epoch}\")\n",
    "\n",
    "        plt.plot(losses[\"train\"],\"b*\")\n",
    "        plt.plot(losses[\"val\"],\"g*\")\n",
    "        plt.title(\"losses\")\n",
    "        plt.show()        \n",
    "        #plt.figure()\n",
    "        #plt.plot(metrics[\"train\"],\"b*\")\n",
    "        #plt.plot(metrics[\"val\"],\"g*\")\n",
    "        #plt.title(\"bleu score\")\n",
    "        #plt.show()\n",
    "    elif epoch - best_epoch > early_stop_thresh  and early_stopping_activated:\n",
    "        print(\"Early stopped training at epoch %d\" % epoch)\n",
    "        break  # terminate the training loop\n",
    "    #stop = time.time()\n",
    "    #print(stop-start)\n",
    "\n",
    "    del loss_train,nb_words_per_batch_train,metric_train\n",
    "\n",
    "    del loss_val,nb_words_per_batch_val,metric_val\n"
   ]
  },
  {
   "cell_type": "code",
   "execution_count": null,
   "id": "2571b27e",
   "metadata": {
    "scrolled": true
   },
   "outputs": [],
   "source": [
    "import matplotlib.pyplot as plt\n",
    "plt.plot(losses[\"train\"],\"b*\")\n",
    "plt.plot(losses[\"val\"],\"g*\")\n",
    "plt.title(\"losses\")\n",
    "plt.show()        "
   ]
  },
  {
   "cell_type": "code",
   "execution_count": null,
   "id": "c9e07adc",
   "metadata": {},
   "outputs": [],
   "source": []
  }
 ],
 "metadata": {
  "kernelspec": {
   "display_name": "Python 3 (ipykernel)",
   "language": "python",
   "name": "python3"
  },
  "language_info": {
   "codemirror_mode": {
    "name": "ipython",
    "version": 3
   },
   "file_extension": ".py",
   "mimetype": "text/x-python",
   "name": "python",
   "nbconvert_exporter": "python",
   "pygments_lexer": "ipython3",
   "version": "3.9.12"
  },
  "vscode": {
   "interpreter": {
    "hash": "5c7b89af1651d0b8571dde13640ecdccf7d5a6204171d6ab33e7c296e100e08a"
   }
  }
 },
 "nbformat": 4,
 "nbformat_minor": 5
}
