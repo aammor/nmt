{
 "cells": [
  {
   "cell_type": "markdown",
   "id": "d69a1e01",
   "metadata": {},
   "source": [
    "### 1) loading the dataset"
   ]
  },
  {
   "cell_type": "code",
   "execution_count": null,
   "id": "a14419b7",
   "metadata": {},
   "outputs": [],
   "source": [
    "from translation_machine import dataset_mod,sentence_mod\n",
    "\n",
    "import numpy as np\n",
    "import torch\n",
    "\n",
    "language_info = torch.load(\"../../models/language_info.pth\")\n",
    "\n",
    "vocab_french = language_info[\"french\"][\"vocab\"]\n",
    "vocab_english = language_info[\"english\"][\"vocab\"]\n",
    "\n",
    "max_length_french = language_info[\"french\"][\"max_sentence_train_val\"]\n",
    "max_length_english = language_info[\"english\"][\"max_sentence_train_val\"]\n",
    "\n",
    "\n",
    "whole_dataset = dataset_mod.DatasetFromTxt(\"../../data/french_english_dataset/fra.txt\")\n",
    "\n",
    "whole_dataset = list(dataset_mod.SentenceDataSet(whole_dataset,sentence_type_src=sentence_mod.EnglishSentence,sentence_type_dst=sentence_mod.FrenchSentence))\n",
    "\n",
    "# Remark : the responsability to split the dataset is done outside of this notebook\n",
    "\n",
    "idxs_train = np.load(\"../../dataset_splitting/idx_train.npy\")\n",
    "idxs_val = np.load(\"../../dataset_splitting/idx_val.npy\")\n",
    "idxs_test = np.load(\"../../dataset_splitting/idx_test.npy\")\n",
    "\n",
    "train_dataset = torch.utils.data.Subset(whole_dataset,idxs_train)\n",
    "val_dataset = torch.utils.data.Subset(whole_dataset,idxs_val)\n",
    "test_dataset = torch.utils.data.Subset(whole_dataset,idxs_test)"
   ]
  },
  {
   "cell_type": "markdown",
   "id": "deb11c95",
   "metadata": {},
   "source": [
    "### 2) creation the vocabulary"
   ]
  },
  {
   "cell_type": "code",
   "execution_count": null,
   "id": "eb015efd",
   "metadata": {},
   "outputs": [],
   "source": [
    "from translation_machine import collate_fn_mod\n",
    "\n",
    "import torch\n",
    "from torch.utils.data import DataLoader\n",
    "import numpy as np\n",
    "\n",
    "collate_fn = collate_fn_mod.get_collate_fn(max_length_english,max_length_french)\n",
    "\n",
    "batch_size= 64\n",
    "\n",
    "train_data_loader = DataLoader(train_dataset,batch_size=batch_size,shuffle=True,collate_fn=collate_fn)\n",
    "val_data_loader = DataLoader(val_dataset,batch_size=batch_size,shuffle=True,collate_fn=collate_fn)\n",
    "test_data_loader = DataLoader(test_dataset,batch_size=batch_size,shuffle=True,collate_fn=collate_fn)\n"
   ]
  },
  {
   "cell_type": "code",
   "execution_count": null,
   "id": "5ea068a7",
   "metadata": {},
   "outputs": [],
   "source": [
    "len(vocab_french.vocab.itos_),len(vocab_english.vocab.itos_)"
   ]
  },
  {
   "cell_type": "code",
   "execution_count": null,
   "id": "a907485b",
   "metadata": {},
   "outputs": [],
   "source": [
    "from translation_machine.models import transformer_mod\n",
    "\n",
    "\n",
    "\n",
    "model_inputs = {\n",
    "    \"d_model\":256,\n",
    "    \"vocab_src\":sentence_mod.EnglishSentence.vocab,\n",
    "    \"vocab_tgt\":sentence_mod.FrenchSentence.vocab,\n",
    "}\n",
    "\n",
    "model = transformer_mod.TransformerForSeq2Seq(**model_inputs)\n"
   ]
  },
  {
   "cell_type": "code",
   "execution_count": null,
   "id": "4b32119b",
   "metadata": {},
   "outputs": [],
   "source": [
    "from torch import optim\n",
    "from translation_machine import model_trainer\n",
    "\n",
    "from torch import nn\n",
    "from torch import nn\n",
    "baseline_loss = nn.CrossEntropyLoss(reduction=\"sum\")\n",
    "\n",
    "optimizer = torch.optim.SGD(model.parameters(), lr=0.1, momentum=0.9)\n",
    "scheduler = torch.optim.lr_scheduler.CyclicLR(optimizer, base_lr=0.01, max_lr=0.1)\n",
    "model_trainer = model_trainer.ModelTrainer(model,optimizer,scheduler,train_data_loader,val_data_loader,baseline_loss)\n"
   ]
  },
  {
   "cell_type": "code",
   "execution_count": null,
   "id": "8fdbcbe1",
   "metadata": {},
   "outputs": [],
   "source": [
    "for batch in train_data_loader:\n",
    "    break\n"
   ]
  },
  {
   "cell_type": "code",
   "execution_count": null,
   "id": "dfb3966f",
   "metadata": {},
   "outputs": [],
   "source": [
    "from tqdm import tqdm\n",
    "model.train()\n",
    "losses_on_train = []\n",
    "losses_on_val = []\n",
    "metrics_on_train = []\n",
    "metrics_on_val = []"
   ]
  },
  {
   "cell_type": "code",
   "execution_count": null,
   "id": "54aec05a",
   "metadata": {
    "scrolled": true
   },
   "outputs": [],
   "source": [
    "from pathlib import Path\n",
    "import torch\n",
    "load_from_backup = True\n",
    "path_model_and_dependencies = \"../../models/sequence_translator_transformer.pth\"\n",
    "\n",
    "if load_from_backup and Path(path_model_and_dependencies).exists():\n",
    "    back_up = torch.load(path_model_and_dependencies)\n",
    "    sequence_translator.load_state_dict(back_up[\"model_params\"])\n",
    "    scheduler.load_state_dict(back_up[\"scheduler\"])\n",
    "    optimizer.load_state_dict(back_up[\"optimizer\"])\n",
    "    losses_train_and_weights = back_up[\"losses_with_weights\"][\"train\"]\n",
    "    losses_val_and_weights = back_up[\"losses_with_weights\"][\"val\"]\n",
    "    metrics_on_train = back_up[\"metrics\"][\"train\"]\n",
    "    metrics_on_val = back_up[\"metrics\"][\"val\"]\n",
    "    print(\"model loaded\")"
   ]
  },
  {
   "cell_type": "code",
   "execution_count": null,
   "id": "1f43be39",
   "metadata": {},
   "outputs": [],
   "source": [
    "import matplotlib.pyplot as plt\n",
    "early_stop_thresh = 3\n",
    "nb_epochs = 20\n",
    "\n",
    "best_loss_val_mean = np.inf\n",
    "best_epoch = scheduler.last_epoch\n",
    "\n",
    "for epoch in tqdm(range(nb_epochs)):\n",
    "    import time\n",
    "    start = time.time()\n",
    "    print(f\"optimizing for epoch {epoch}\")\n",
    "    print(\"training_step\")\n",
    "    loss_train,nb_words_per_batch_train,metric_train = model_trainer.train_on_epoch()\n",
    "    print(\"validation_step\")\n",
    "    loss_val,nb_words_per_batch_val,metric_val = model_trainer.validate_on_epoch()\n",
    "\n",
    "\n",
    "    loss_train = np.array([float(el) for el in loss_train])\n",
    "    loss_val = np.array([float(el) for el in loss_val])\n",
    "    train_weights = 1/sum(nb_words_per_batch_train)\n",
    "    val_weights = 1/sum(nb_words_per_batch_val)\n",
    "    \n",
    "    \n",
    "        \n",
    "    losses_on_train.append(np.sum(loss_train)/sum(nb_words_per_batch_train))\n",
    "    losses_on_val.append(np.sum(loss_val)/sum(nb_words_per_batch_val))\n",
    "    metrics_on_train.append(metric_train)\n",
    "    metrics_on_val.append(metric_val)\n",
    "    \n",
    "    current_loss_val_mean = np.mean(loss_val)\n",
    "    \n",
    "    if (current_loss_val_mean < best_loss_val_mean) and (epoch-best_epoch<5):\n",
    "        best_epoch = scheduler.last_epoch\n",
    "        best_loss_val_mean = current_loss_val_mean\n",
    "\n",
    "        state_dict_extended = {\"model_params\":model_trainer.model.state_dict(),\n",
    "                               \"model_inputs\":model_inputs,\n",
    "                              \"optimizer\":optimizer.state_dict(),\n",
    "                              \"scheduler\":scheduler.state_dict(),\n",
    "                              \"losses_with_weights\":{\"train\":losses_on_train,\"val\":losses_on_val},\n",
    "                              \"metrics\":{\"train\":metrics_on_train,\"val\":metrics_on_val}\n",
    "                              }\n",
    "        \n",
    "        torch.save(state_dict_extended,path_model_and_dependencies)\n",
    "        print(f\"saving for epoch {epoch}\")\n",
    "\n",
    "        plt.plot(losses_on_train,\"b*\")\n",
    "        plt.plot(losses_on_val,\"g*\")\n",
    "        plt.title(\"losses\")\n",
    "        plt.show()        \n",
    "        plt.figure()\n",
    "        plt.plot(metrics_on_train,\"b*\")\n",
    "        plt.plot(metrics_on_val,\"g*\")\n",
    "        plt.title(\"bleu score\")\n",
    "        plt.show()\n",
    "    elif epoch - best_epoch > early_stop_thresh:\n",
    "        print(\"Early stopped training at epoch %d\" % epoch)\n",
    "        break  # terminate the training loop\n",
    "    stop = time.time()\n",
    "    print(stop-start)"
   ]
  },
  {
   "cell_type": "code",
   "execution_count": null,
   "id": "f520da87",
   "metadata": {},
   "outputs": [],
   "source": []
  }
 ],
 "metadata": {
  "kernelspec": {
   "display_name": "Python 3 (ipykernel)",
   "language": "python",
   "name": "python3"
  },
  "language_info": {
   "codemirror_mode": {
    "name": "ipython",
    "version": 3
   },
   "file_extension": ".py",
   "mimetype": "text/x-python",
   "name": "python",
   "nbconvert_exporter": "python",
   "pygments_lexer": "ipython3",
   "version": "3.10.9"
  },
  "vscode": {
   "interpreter": {
    "hash": "5c7b89af1651d0b8571dde13640ecdccf7d5a6204171d6ab33e7c296e100e08a"
   }
  }
 },
 "nbformat": 4,
 "nbformat_minor": 5
}
