{
 "cells": [
  {
   "cell_type": "code",
   "execution_count": 13,
   "id": "bb712263-4707-4576-9f17-ae99c1ddce34",
   "metadata": {
    "tags": []
   },
   "outputs": [],
   "source": [
    "import argparse\n",
    "from pathlib import Path\n",
    "\n",
    "batch_size= 64\n",
    "d_model = 512\n",
    "early_stopping_activated = False\n",
    "early_stop_steps_per_half_clr_cycle = 3\n",
    "nb_epochs = 60\n",
    "\n",
    "limit_length= None\n",
    "use_splitting = True\n",
    "max_length_from_file = False\n",
    "\n",
    "\n",
    "base_lr = 10**(-6)\n",
    "max_lr = 0.0001\n",
    "momentum = 0.9\n",
    "half_period_cycle = 3\n",
    "gamma = 0.8\n",
    "\n",
    "load_from_backup = False\n",
    "restore_from_backup = tuple([\"model_params\",\"scheduler\",\"optimizer\",\"losses\",\"metrics\"])\n",
    "\n",
    "simple_hyp_params = argparse.Namespace(batch_size= batch_size,d_model = d_model,\n",
    "early_stopping_activated = early_stopping_activated,\n",
    "early_stop_steps_per_half_clr_cycle = early_stop_steps_per_half_clr_cycle,\n",
    "nb_epochs = nb_epochs)\n",
    "\n",
    "dset_truncation =argparse.Namespace(limit_length= limit_length,\n",
    "                                    use_splitting = use_splitting,\n",
    "                                    max_length_from_file = max_length_from_file)\n",
    "\n",
    "\n",
    "opt_params = argparse.Namespace(base_lr = base_lr,\n",
    "                                max_lr = max_lr,\n",
    "                                momentum = momentum,\n",
    "                                half_period_cycle = half_period_cycle,gamma=gamma)\n",
    "\n",
    "train_state_control = argparse.Namespace(load_from_backup = load_from_backup,\n",
    "restore_from_backup = restore_from_backup\n",
    ")\n",
    "\n",
    "\n",
    "path_to_root = Path(\"../../\")\n",
    "\n",
    "paths = argparse.Namespace(path_dataset = \"data/french_english_dataset/fra.txt\",\n",
    "path_language_info = \"models/language_info.pth\",\n",
    "path_dataset_splitting = \"dataset_splitting\",\n",
    "path_model_and_dependencies = \"models/sequence_translator_transformer_new.pth\"\n",
    ")\n",
    "\n",
    "for key,path in paths.__dict__.items():\n",
    "    paths.__dict__[key] = str(path_to_root.joinpath(path))\n",
    "\n"
   ]
  },
  {
   "cell_type": "code",
   "execution_count": 14,
   "id": "7da2dbac-e24a-4c4b-b002-072a7f01729b",
   "metadata": {
    "tags": []
   },
   "outputs": [
    {
     "name": "stderr",
     "output_type": "stream",
     "text": [
      "Executing cell: 12: 100%|███████████████████████| 19/19 [00:01<00:00, 13.25it/s]\n"
     ]
    }
   ],
   "source": [
    "from ploomber_engine.ipython import PloomberClient\n",
    "from ploomber import DAG\n",
    "from pathlib import Path\n",
    "from ploomber.products import File\n",
    "\n",
    "# initialize client\n",
    "client = PloomberClient.from_path(Path(\"./training_setup.ipynb\"))\n",
    "from argparse import Namespace\n",
    "\n",
    "from translation_machine.models import transformer_mod\n",
    "from translation_machine import sentence_mod\n",
    "\n",
    "initial_namespace = argparse.Namespace(**{key:globals()[key] for key in [\"simple_hyp_params\",\"dset_truncation\",\n",
    "                                                  \"opt_params\",\"train_state_control\",\n",
    "                                                  \"paths\"]})\n",
    "train_setup = client.get_namespace(initial_namespace.__dict__)\n",
    "for key,val in train_setup.items():\n",
    "        globals()[key] = val"
   ]
  },
  {
   "cell_type": "code",
   "execution_count": 16,
   "id": "dd52de29",
   "metadata": {
    "tags": []
   },
   "outputs": [
    {
     "ename": "NameError",
     "evalue": "name 'train_data_loader' is not defined",
     "output_type": "error",
     "traceback": [
      "\u001b[0;31m---------------------------------------------------------------------------\u001b[0m",
      "\u001b[0;31mNameError\u001b[0m                                 Traceback (most recent call last)",
      "File \u001b[0;32m/tmp/ipykernel_2461/2912386713.py:14\u001b[0m\n\u001b[1;32m      9\u001b[0m cycle_schedule \u001b[38;5;241m=\u001b[39m \u001b[38;5;241m5\u001b[39m\n\u001b[1;32m     10\u001b[0m method \u001b[38;5;241m=\u001b[39m \u001b[38;5;124m\"\u001b[39m\u001b[38;5;124mexponential\u001b[39m\u001b[38;5;124m\"\u001b[39m\n\u001b[0;32m---> 14\u001b[0m lrs \u001b[38;5;241m=\u001b[39m \u001b[43mmodel_trainer\u001b[49m\u001b[38;5;241;43m.\u001b[39;49m\u001b[43mlr_range_test\u001b[49m\u001b[43m(\u001b[49m\u001b[43mmin_lr_search\u001b[49m\u001b[43m,\u001b[49m\u001b[43mmax_lr_search\u001b[49m\u001b[43m,\u001b[49m\u001b[43msize_experiments_step\u001b[49m\u001b[43m,\u001b[49m\u001b[43mcycle_schedule\u001b[49m\u001b[43m,\u001b[49m\u001b[43mmethod\u001b[49m\u001b[43m)\u001b[49m\n",
      "File \u001b[0;32m~/nmt/src/translation_machine/model_trainer.py:161\u001b[0m, in \u001b[0;36mModelTrainer.lr_range_test\u001b[0;34m(self, min_lr_search, max_lr_search, size_experiments_step, cycle_schedule, method)\u001b[0m\n\u001b[1;32m    158\u001b[0m losses_lr \u001b[38;5;241m=\u001b[39m []\n\u001b[1;32m    159\u001b[0m lrs \u001b[38;5;241m=\u001b[39m []\n\u001b[0;32m--> 161\u001b[0m \u001b[38;5;28;01mfor\u001b[39;00m idx,batch \u001b[38;5;129;01min\u001b[39;00m \u001b[38;5;28menumerate\u001b[39m(cyclic_shuffled_train_data_loader):\n\u001b[1;32m    162\u001b[0m     \u001b[38;5;28mprint\u001b[39m(idx)\n\u001b[1;32m    163\u001b[0m     loss,nb_words \u001b[38;5;241m=\u001b[39m model_trainer\u001b[38;5;241m.\u001b[39mtrain_on_batch(batch)\n",
      "File \u001b[0;32m~/nmt/src/translation_machine/model_trainer.py:154\u001b[0m, in \u001b[0;36m<genexpr>\u001b[0;34m(.0)\u001b[0m\n\u001b[1;32m    151\u001b[0m     \u001b[38;5;28;01mraise\u001b[39;00m \u001b[38;5;167;01mValueError\u001b[39;00m\n\u001b[1;32m    153\u001b[0m \u001b[38;5;66;03m# iterate over the train_data_loader, while shuffling at each epoch , for a certain number of iteratiosn\u001b[39;00m\n\u001b[0;32m--> 154\u001b[0m cyclic_shuffled_train_data_loader \u001b[38;5;241m=\u001b[39m (el  \u001b[38;5;28;01mfor\u001b[39;00m _ \u001b[38;5;129;01min\u001b[39;00m itertools\u001b[38;5;241m.\u001b[39mcount(start\u001b[38;5;241m=\u001b[39m\u001b[38;5;241m0\u001b[39m,step\u001b[38;5;241m=\u001b[39m\u001b[38;5;241m1\u001b[39m) \u001b[38;5;28;01mfor\u001b[39;00m el \u001b[38;5;129;01min\u001b[39;00m \u001b[43mtrain_data_loader\u001b[49m)\n\u001b[1;32m    155\u001b[0m cyclic_shuffled_train_data_loader \u001b[38;5;241m=\u001b[39m itertools\u001b[38;5;241m.\u001b[39mislice(cyclic_shuffled_train_data_loader,size_experiments_step)\n\u001b[1;32m    158\u001b[0m losses_lr \u001b[38;5;241m=\u001b[39m []\n",
      "\u001b[0;31mNameError\u001b[0m: name 'train_data_loader' is not defined"
     ]
    }
   ],
   "source": [
    "import time\n",
    "import itertools\n",
    "\n",
    "\n",
    "start = time.time()\n",
    "min_lr_search = 10**(-7)\n",
    "max_lr_search = 0.1\n",
    "size_experiments_step = 2000\n",
    "cycle_schedule = 5\n",
    "method = \"exponential\"\n",
    "\n",
    "\n",
    "\n",
    "lrs = model_trainer.lr_range_test(min_lr_search,max_lr_search,size_experiments_step,cycle_schedule,method)"
   ]
  },
  {
   "cell_type": "code",
   "execution_count": null,
   "id": "b7d9405c",
   "metadata": {},
   "outputs": [],
   "source": [
    "tmp = np.mean(np.array(losses_lr_finder_exponential).reshape(-1,5),axis=1)\n",
    "plt.plot(tmp)"
   ]
  }
 ],
 "metadata": {
  "kernelspec": {
   "display_name": "Python 3 (ipykernel)",
   "language": "python",
   "name": "python3"
  },
  "language_info": {
   "codemirror_mode": {
    "name": "ipython",
    "version": 3
   },
   "file_extension": ".py",
   "mimetype": "text/x-python",
   "name": "python",
   "nbconvert_exporter": "python",
   "pygments_lexer": "ipython3",
   "version": "3.9.12"
  }
 },
 "nbformat": 4,
 "nbformat_minor": 5
}
