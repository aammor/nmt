{
 "cells": [
  {
   "cell_type": "code",
   "execution_count": 108,
   "id": "6745d34c",
   "metadata": {},
   "outputs": [
    {
     "data": {
      "text/plain": [
       "[0.1,\n",
       " 0.095,\n",
       " 0.09025,\n",
       " 0.0857375,\n",
       " 0.081450625,\n",
       " 0.07737809374999999,\n",
       " 0.07350918906249998,\n",
       " 0.06983372960937498,\n",
       " 0.06634204312890622,\n",
       " 0.0630249409724609,\n",
       " 0.05987369392383787,\n",
       " 0.05688000922764597,\n",
       " 0.05403600876626367,\n",
       " 0.051334208327950485,\n",
       " 0.04876749791155296,\n",
       " 0.046329123015975304,\n",
       " 0.04401266686517654,\n",
       " 0.04181203352191771,\n",
       " 0.039721431845821824,\n",
       " 0.03773536025353073,\n",
       " 0.03584859224085419,\n",
       " 0.03405616262881148,\n",
       " 0.0323533544973709,\n",
       " 0.03073568677250236,\n",
       " 0.02919890243387724,\n",
       " 0.027738957312183378,\n",
       " 0.026352009446574204,\n",
       " 0.025034408974245494,\n",
       " 0.023782688525533217,\n",
       " 0.022593554099256556,\n",
       " 0.02146387639429373,\n",
       " 0.02039068257457904,\n",
       " 0.019371148445850087,\n",
       " 0.018402591023557582,\n",
       " 0.017482461472379703,\n",
       " 0.016608338398760716,\n",
       " 0.01577792147882268,\n",
       " 0.014989025404881546,\n",
       " 0.014239574134637467,\n",
       " 0.013527595427905593,\n",
       " 0.012851215656510312,\n",
       " 0.012208654873684797,\n",
       " 0.011598222130000557,\n",
       " 0.011018311023500529,\n",
       " 0.010467395472325502,\n",
       " 0.009944025698709225,\n",
       " 0.009446824413773765,\n",
       " 0.008974483193085076,\n",
       " 0.00852575903343082,\n",
       " 0.00809947108175928,\n",
       " 0.007694497527671315,\n",
       " 0.007309772651287749,\n",
       " 0.006944284018723362,\n",
       " 0.0065970698177871935,\n",
       " 0.006267216326897833,\n",
       " 0.005953855510552941,\n",
       " 0.005656162735025293,\n",
       " 0.005373354598274029,\n",
       " 0.005104686868360327,\n",
       " 0.004849452524942311]"
      ]
     },
     "execution_count": 108,
     "metadata": {},
     "output_type": "execute_result"
    }
   ],
   "source": [
    "[0.1*(0.95**i) for i in range(60)]"
   ]
  },
  {
   "cell_type": "code",
   "execution_count": 75,
   "id": "ee81b431",
   "metadata": {},
   "outputs": [
    {
     "data": {
      "text/plain": [
       "<All keys matched successfully>"
      ]
     },
     "execution_count": 75,
     "metadata": {},
     "output_type": "execute_result"
    }
   ],
   "source": [
    "from translation_machine import model\n",
    "\n",
    "import torch \n",
    "\n",
    "\n",
    "tmp = torch.load(\"./sequence_translator_extended.pth\")\n",
    "model_params = tmp[\"model_params\"]\n",
    "model_inputs = tmp[\"model_inputs\"]\n",
    "\n",
    "vocab_english = model_inputs[\"vocab_english\"]\n",
    "vocab_german = model_inputs[\"vocab_german\"]\n",
    "\n",
    "\n",
    "sequence_translator = model.SequenceTranslator(**model_inputs)\n",
    "sequence_translator.load_state_dict(model_params)\n",
    "\n"
   ]
  },
  {
   "cell_type": "code",
   "execution_count": 77,
   "id": "cc91182e",
   "metadata": {},
   "outputs": [],
   "source": [
    "import torchtext,torch\n",
    "from torchtext.datasets import Multi30k\n",
    "train_dataset, val_dataset, test_dataset = Multi30k(language_pair=(\"en\", \"de\"), split=('train', 'valid', 'test'))\n"
   ]
  },
  {
   "cell_type": "code",
   "execution_count": 78,
   "id": "94a51a2a",
   "metadata": {},
   "outputs": [],
   "source": [
    "from translation_machine import translator_mod\n",
    "from translation_machine.sentence_mod import EnglishSentence,GermanSentence\n",
    "translator = translator_mod.Translator(sequence_translator)"
   ]
  },
  {
   "cell_type": "code",
   "execution_count": 98,
   "id": "ad8ad4d8",
   "metadata": {},
   "outputs": [],
   "source": [
    "from itertools import islice\n",
    "train_iter = iter(train_dataset)"
   ]
  },
  {
   "cell_type": "code",
   "execution_count": 99,
   "id": "917afaf1",
   "metadata": {},
   "outputs": [
    {
     "data": {
      "text/plain": [
       "('Two young, White males are outside near many bushes.',\n",
       " 'Zwei junge weiße Männer sind im Freien in der Nähe vieler Büsche.')"
      ]
     },
     "execution_count": 99,
     "metadata": {},
     "output_type": "execute_result"
    }
   ],
   "source": [
    "english_sentence,german_sentence = next(train_iter)\n",
    "english_sentence,german_sentence"
   ]
  },
  {
   "cell_type": "code",
   "execution_count": 100,
   "id": "b2c54504",
   "metadata": {},
   "outputs": [
    {
     "data": {
      "text/plain": [
       "'<sos> Ein Taucher mit einem breiten kegelförmigen Hut bietet einem großen Wandbild zum Verkauf vor einem Stapel Holz die Straße entlang , während ein anderer Mann zuschaut . <eos>'"
      ]
     },
     "execution_count": 100,
     "metadata": {},
     "output_type": "execute_result"
    }
   ],
   "source": [
    "german_sentence_pred = translator(EnglishSentence(english_sentence))\n",
    "str(german_sentence_pred)"
   ]
  },
  {
   "cell_type": "code",
   "execution_count": 91,
   "id": "5c6eacbd",
   "metadata": {},
   "outputs": [
    {
     "data": {
      "text/plain": [
       "'Ein kleines Mädchen klettert in ein Spielhaus aus Holz.'"
      ]
     },
     "execution_count": 91,
     "metadata": {},
     "output_type": "execute_result"
    }
   ],
   "source": [
    "german_sentence"
   ]
  },
  {
   "cell_type": "code",
   "execution_count": 13,
   "id": "8838dcb7",
   "metadata": {},
   "outputs": [
    {
     "name": "stdout",
     "output_type": "stream",
     "text": [
      "22\n",
      "29\n",
      "17\n",
      "30\n",
      "171\n",
      "217\n",
      "33\n",
      "200\n",
      "30\n",
      "71\n",
      "716\n",
      "15\n",
      "2\n",
      "b l a c k   m a n\n",
      "<sos> Ein Mann mit einem roten Hut steht neben einem großen Raum . <eos>\n"
     ]
    }
   ],
   "source": [
    "english_sentence = EnglishSentence(\"black man\")\n",
    "german_sentence = translator(english_sentence)\n",
    "print(english_sentence)\n",
    "print(str(german_sentence))"
   ]
  },
  {
   "cell_type": "code",
   "execution_count": null,
   "id": "00776710",
   "metadata": {
    "scrolled": true
   },
   "outputs": [],
   "source": [
    "probs_for_best_sentences = translator.compute_with_beam_search(english_sentence,max_iter=20,show_all=True)\n",
    "for sentence in probs_for_best_sentences:\n",
    "    print(sentence.as_words)"
   ]
  },
  {
   "cell_type": "code",
   "execution_count": null,
   "id": "5508dc62",
   "metadata": {},
   "outputs": [],
   "source": [
    "english_sentence = EnglishSentence(\"A young man .\")\n",
    "probs_for_best_sentences = translator.compute_with_beam_search(english_sentence,max_iter=20)\n",
    "for sentence in probs_for_best_sentences:\n",
    "    print(sentence)"
   ]
  }
 ],
 "metadata": {
  "kernelspec": {
   "display_name": "Python 3 (ipykernel)",
   "language": "python",
   "name": "python3"
  },
  "language_info": {
   "codemirror_mode": {
    "name": "ipython",
    "version": 3
   },
   "file_extension": ".py",
   "mimetype": "text/x-python",
   "name": "python",
   "nbconvert_exporter": "python",
   "pygments_lexer": "ipython3",
   "version": "3.8.10"
  }
 },
 "nbformat": 4,
 "nbformat_minor": 5
}
