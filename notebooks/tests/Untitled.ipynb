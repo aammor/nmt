{
 "cells": [
  {
   "cell_type": "code",
   "execution_count": 68,
   "id": "d0c64aab",
   "metadata": {},
   "outputs": [],
   "source": [
    "lengths = [5,8,3,10]\n",
    "a = [torch.IntTensor([1]+[random.randrange(0,30,1) for _ in range(length-2)]+[2]) for length in lengths]\n",
    "concatenated = torch.concat(a)"
   ]
  },
  {
   "cell_type": "code",
   "execution_count": 78,
   "id": "edda121b",
   "metadata": {},
   "outputs": [
    {
     "data": {
      "text/plain": [
       "tensor([ 0,  5, 13, 16, 26])"
      ]
     },
     "execution_count": 78,
     "metadata": {},
     "output_type": "execute_result"
    }
   ],
   "source": [
    "from translation_machine.models import common\n",
    "stops"
   ]
  },
  {
   "cell_type": "code",
   "execution_count": 80,
   "id": "adddd213",
   "metadata": {},
   "outputs": [],
   "source": [
    "res = common.divide_into_sublist(concatenated,lengths)"
   ]
  },
  {
   "cell_type": "code",
   "execution_count": 81,
   "id": "d84ae591",
   "metadata": {},
   "outputs": [],
   "source": [
    "assert all([ bool(torch.all(el0==el1)) for (el0,el1) in zip(a,res)])"
   ]
  },
  {
   "cell_type": "code",
   "execution_count": 82,
   "id": "4a2f5ddd",
   "metadata": {},
   "outputs": [
    {
     "data": {
      "text/plain": [
       "([tensor([ 1, 25,  1, 16,  2], dtype=torch.int32),\n",
       "  tensor([ 1, 15, 10, 10, 21, 27, 22,  2], dtype=torch.int32),\n",
       "  tensor([ 1, 15,  2], dtype=torch.int32),\n",
       "  tensor([ 1, 19, 16, 25,  3, 13, 14, 17,  2,  2], dtype=torch.int32)],\n",
       " [tensor([ 1, 25,  1, 16,  2], dtype=torch.int32),\n",
       "  tensor([ 1, 15, 10, 10, 21, 27, 22,  2], dtype=torch.int32),\n",
       "  tensor([ 1, 15,  2], dtype=torch.int32),\n",
       "  tensor([ 1, 19, 16, 25,  3, 13, 14, 17,  2,  2], dtype=torch.int32)])"
      ]
     },
     "execution_count": 82,
     "metadata": {},
     "output_type": "execute_result"
    }
   ],
   "source": [
    "res,a"
   ]
  },
  {
   "cell_type": "code",
   "execution_count": null,
   "id": "0053782d",
   "metadata": {},
   "outputs": [],
   "source": []
  }
 ],
 "metadata": {
  "kernelspec": {
   "display_name": "Python 3 (ipykernel)",
   "language": "python",
   "name": "python3"
  },
  "language_info": {
   "codemirror_mode": {
    "name": "ipython",
    "version": 3
   },
   "file_extension": ".py",
   "mimetype": "text/x-python",
   "name": "python",
   "nbconvert_exporter": "python",
   "pygments_lexer": "ipython3",
   "version": "3.9.12"
  }
 },
 "nbformat": 4,
 "nbformat_minor": 5
}
