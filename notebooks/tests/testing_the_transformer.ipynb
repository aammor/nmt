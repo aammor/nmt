{
 "cells": [
  {
   "cell_type": "code",
   "execution_count": 1,
   "id": "9d0f8c6d",
   "metadata": {
    "scrolled": true
   },
   "outputs": [],
   "source": [
    "from translation_machine import dataset_mod,sentence_mod\n",
    "\n",
    "import numpy as np\n",
    "import torch\n",
    "\n",
    "language_info = torch.load(\"../models/language_info.pth\")\n",
    "\n",
    "vocab_french = language_info[\"french\"][\"vocab\"]\n",
    "vocab_english = language_info[\"english\"][\"vocab\"]\n",
    "\n",
    "max_length_french = language_info[\"french\"][\"max_sentence_train_val\"]\n",
    "max_length_english = language_info[\"english\"][\"max_sentence_train_val\"]\n",
    "\n",
    "\n",
    "whole_dataset = dataset_mod.DatasetFromTxt(\"../data/french_english_dataset/fra.txt\")\n",
    "\n",
    "whole_dataset = list(dataset_mod.SentenceDataSet(whole_dataset,sentence_type_src=sentence_mod.EnglishSentence,sentence_type_dst=sentence_mod.FrenchSentence))\n",
    "\n",
    "\n"
   ]
  },
  {
   "cell_type": "code",
   "execution_count": 2,
   "id": "4a7b9290",
   "metadata": {},
   "outputs": [],
   "source": [
    "from translation_machine import collate_fn_mod\n",
    "\n",
    "import torch\n",
    "from torch.utils.data import DataLoader\n",
    "import numpy as np\n",
    "\n",
    "collate_fn = collate_fn_mod.get_collate_fn(max_length_english,max_length_french)\n",
    "\n",
    "batch_size= 16\n",
    "\n",
    "data_loader = DataLoader(whole_dataset,batch_size=batch_size,shuffle=True,collate_fn=collate_fn)\n"
   ]
  },
  {
   "cell_type": "code",
   "execution_count": 3,
   "id": "494c0025",
   "metadata": {},
   "outputs": [],
   "source": [
    "from translation_machine.models import transformer_mod\n",
    "model = transformer_mod.TransformerForSeq2Seq(64,sentence_mod.EnglishSentence.vocab,sentence_mod.FrenchSentence.vocab)\n"
   ]
  },
  {
   "cell_type": "code",
   "execution_count": 4,
   "id": "0c11b1bd",
   "metadata": {},
   "outputs": [],
   "source": [
    "for batch in data_loader:\n",
    "    break"
   ]
  },
  {
   "cell_type": "code",
   "execution_count": 5,
   "id": "542058c7",
   "metadata": {},
   "outputs": [
    {
     "data": {
      "text/plain": [
       "[tensor([[   6,  158,  353,  ...,    0,    0,    0],\n",
       "         [   6,   89,  432,  ...,    0,    0,    0],\n",
       "         [ 133,  752,  966,  ...,    0,    0,    0],\n",
       "         ...,\n",
       "         [2602,   29, 3506,  ...,    0,    0,    0],\n",
       "         [  78,   79,  354,  ...,    0,    0,    0],\n",
       "         [1472,  241,    0,  ...,    0,    0,    0]]),\n",
       " tensor([[   1,    9,  325,  ...,    0,    0,    0],\n",
       "         [   1,    7,    8,  ...,    0,    0,    0],\n",
       "         [   1,  187, 1379,  ...,    0,    0,    0],\n",
       "         ...,\n",
       "         [   1,    0,   34,  ...,    0,    0,    0],\n",
       "         [   1,   91, 2411,  ...,    0,    0,    0],\n",
       "         [   1,  380,  150,  ...,    0,    0,    0]]),\n",
       " tensor([ 9,  6, 15,  5,  9,  5,  5,  5,  4,  8,  5,  6,  5, 14,  9,  4]),\n",
       " tensor([13,  8, 14,  7, 11,  8,  8,  7,  6, 10,  8,  8,  8, 17,  9,  7])]"
      ]
     },
     "execution_count": 5,
     "metadata": {},
     "output_type": "execute_result"
    }
   ],
   "source": [
    "batch"
   ]
  },
  {
   "cell_type": "code",
   "execution_count": 6,
   "id": "3cda5488",
   "metadata": {},
   "outputs": [],
   "source": [
    "model = model.to(\"cuda\")\n",
    "batch[:2] = [el.to(\"cuda\") for el in batch[:2]]"
   ]
  },
  {
   "cell_type": "code",
   "execution_count": 7,
   "id": "c0d766e6",
   "metadata": {},
   "outputs": [],
   "source": [
    "res = model.forward(batch)"
   ]
  },
  {
   "cell_type": "code",
   "execution_count": 9,
   "id": "1e3be9d3",
   "metadata": {},
   "outputs": [],
   "source": [
    "assert  all(el in res.keys() for el in ['main', 'target_model'])"
   ]
  },
  {
   "cell_type": "code",
   "execution_count": 21,
   "id": "cbe742b4",
   "metadata": {},
   "outputs": [],
   "source": [
    "assert (res[\"main\"].shape[0] == res[\"target_model\"].shape[0])"
   ]
  },
  {
   "cell_type": "code",
   "execution_count": 69,
   "id": "5653232c",
   "metadata": {},
   "outputs": [],
   "source": [
    "#directly from batch\n",
    "target_model = torch.concat([instance[1:length] for instance,length in zip(batch[1],batch[3])])"
   ]
  },
  {
   "cell_type": "code",
   "execution_count": 70,
   "id": "4e0e5dc5",
   "metadata": {},
   "outputs": [],
   "source": [
    "assert torch.all(target_model == res[\"target_model\"])"
   ]
  },
  {
   "cell_type": "code",
   "execution_count": null,
   "id": "446ea0ec",
   "metadata": {},
   "outputs": [],
   "source": []
  }
 ],
 "metadata": {
  "kernelspec": {
   "display_name": "Python 3 (ipykernel)",
   "language": "python",
   "name": "python3"
  },
  "language_info": {
   "codemirror_mode": {
    "name": "ipython",
    "version": 3
   },
   "file_extension": ".py",
   "mimetype": "text/x-python",
   "name": "python",
   "nbconvert_exporter": "python",
   "pygments_lexer": "ipython3",
   "version": "3.9.12"
  }
 },
 "nbformat": 4,
 "nbformat_minor": 5
}
