{
 "cells": [
  {
   "cell_type": "code",
   "execution_count": null,
   "id": "9d0f8c6d",
   "metadata": {},
   "outputs": [],
   "source": [
    "from translation_machine import dataset_mod,sentence_mod\n",
    "\n",
    "import numpy as np\n",
    "import torch\n",
    "\n",
    "language_info = torch.load(\"../models/language_info.pth\")\n",
    "\n",
    "vocab_french = language_info[\"french\"][\"vocab\"]\n",
    "vocab_english = language_info[\"english\"][\"vocab\"]\n",
    "\n",
    "max_length_french = language_info[\"french\"][\"max_sentence_train_val\"]\n",
    "max_length_english = language_info[\"english\"][\"max_sentence_train_val\"]\n",
    "\n",
    "\n",
    "whole_dataset = dataset_mod.DatasetFromTxt(\"../data/french_english_dataset/fra.txt\")\n",
    "\n",
    "whole_dataset = list(dataset_mod.SentenceDataSet(whole_dataset,sentence_type_src=sentence_mod.EnglishSentence,sentence_type_dst=sentence_mod.FrenchSentence))\n",
    "\n",
    "\n"
   ]
  },
  {
   "cell_type": "code",
   "execution_count": null,
   "id": "4a7b9290",
   "metadata": {},
   "outputs": [],
   "source": [
    "from translation_machine import collate_fn_mod\n",
    "\n",
    "import torch\n",
    "from torch.utils.data import DataLoader\n",
    "import numpy as np\n",
    "\n",
    "collate_fn = collate_fn_mod.get_collate_fn(max_length_english,max_length_french)\n",
    "\n",
    "batch_size= 64\n",
    "\n",
    "data_loader = DataLoader(whole_dataset,batch_size=batch_size,shuffle=True,collate_fn=collate_fn)\n"
   ]
  },
  {
   "cell_type": "code",
   "execution_count": null,
   "id": "494c0025",
   "metadata": {},
   "outputs": [],
   "source": [
    "from translation_machine.models import transformer_mod\n",
    "model = transformer_mod.TransformerForSeq2Seq(256,sentence_mod.EnglishSentence.vocab,sentence_mod.FrenchSentence.vocab)\n"
   ]
  },
  {
   "cell_type": "code",
   "execution_count": null,
   "id": "0c11b1bd",
   "metadata": {},
   "outputs": [],
   "source": [
    "for batch in data_loader:\n",
    "    en_id_tokens_batchs,fr_id_tokens_batchs,en_lengths,fr_lengths = batch\n",
    "    break"
   ]
  },
  {
   "cell_type": "code",
   "execution_count": null,
   "id": "3cda5488",
   "metadata": {},
   "outputs": [],
   "source": [
    "model = model.to(\"cuda\")\n",
    "batch[:2] = [el.to(\"cuda\") for el in batch[:2]]"
   ]
  },
  {
   "cell_type": "code",
   "execution_count": null,
   "id": "39048cf2",
   "metadata": {},
   "outputs": [],
   "source": [
    "batch[:2] = [el[:,:100] for el in batch[:2]]"
   ]
  },
  {
   "cell_type": "code",
   "execution_count": null,
   "id": "c0d766e6",
   "metadata": {},
   "outputs": [],
   "source": [
    "res = model(*batch)\n",
    "res.shape"
   ]
  },
  {
   "cell_type": "code",
   "execution_count": null,
   "id": "529fe68c",
   "metadata": {
    "scrolled": true
   },
   "outputs": [],
   "source": [
    "[el.shape for el in batch]"
   ]
  }
 ],
 "metadata": {
  "kernelspec": {
   "display_name": "Python 3 (ipykernel)",
   "language": "python",
   "name": "python3"
  },
  "language_info": {
   "codemirror_mode": {
    "name": "ipython",
    "version": 3
   },
   "file_extension": ".py",
   "mimetype": "text/x-python",
   "name": "python",
   "nbconvert_exporter": "python",
   "pygments_lexer": "ipython3",
   "version": "3.10.9"
  }
 },
 "nbformat": 4,
 "nbformat_minor": 5
}
