{
 "cells": [
  {
   "cell_type": "code",
   "execution_count": 15,
   "id": "d0952a11",
   "metadata": {},
   "outputs": [],
   "source": [
    "import numpy as np,torch\n",
    "\n",
    "from translation_machine import dataset_mod,sentence_mod\n",
    "\n",
    "whole_dataset = dataset_mod.DatasetFromTxt(\"../data/french_english_dataset/fra.txt\")\n",
    "idxs = np.load(\"../dataset_splitting/idx_overfitting.npy\")\n",
    "\n",
    "\n",
    "dataset_overfitted_on = dataset_mod.SentenceDataSet(torch.utils.data.Subset(whole_dataset,idxs),\n",
    "                                                   sentence_mod.EnglishSentence,\n",
    "                                                   sentence_mod.FrenchSentence)\n"
   ]
  },
  {
   "cell_type": "code",
   "execution_count": 16,
   "id": "185634f5",
   "metadata": {},
   "outputs": [],
   "source": [
    "from translation_machine import model_mod,model_bidirectionnal_mod\n",
    "\n",
    "\n",
    "path = \"../models/sequence_translator_extended_overfitted.pth\"\n",
    "back_up = torch.load(path)\n",
    "\n",
    "model_inputs = back_up[\"model_inputs\"]\n",
    "sequence_translator = model_bidirectionnal_mod.SequenceTranslator(**model_inputs)\n"
   ]
  },
  {
   "cell_type": "code",
   "execution_count": 17,
   "id": "7a441664",
   "metadata": {},
   "outputs": [
    {
     "data": {
      "text/plain": [
       "SequenceTranslator(\n",
       "  (src_embedding_layer): Embedding(14087, 128)\n",
       "  (dst_embedding_layer): Embedding(22815, 128)\n",
       "  (encoder): LSTM(128, 512, batch_first=True, bidirectional=True)\n",
       "  (decoder): LSTM(128, 1024, batch_first=True)\n",
       "  (linear_layer): Linear(in_features=1024, out_features=22815, bias=True)\n",
       ")"
      ]
     },
     "execution_count": 17,
     "metadata": {},
     "output_type": "execute_result"
    }
   ],
   "source": [
    "from pathlib import Path\n",
    "\n",
    "path = \"../models/sequence_translator_extended_overfitted.pth\"\n",
    "sequence_translator.load_state_dict(back_up[\"model_params\"])\n",
    "sequence_translator.eval()"
   ]
  },
  {
   "cell_type": "code",
   "execution_count": 278,
   "id": "1d54d49b",
   "metadata": {},
   "outputs": [],
   "source": [
    "from translation_machine import translator_mod\n",
    "\n",
    "translator = translator_mod.Translator(sequence_translator)"
   ]
  },
  {
   "cell_type": "code",
   "execution_count": 279,
   "id": "1f9abbba",
   "metadata": {},
   "outputs": [
    {
     "data": {
      "text/plain": [
       "(<translation_machine.sentence_mod._create_sentence_type.<locals>.Sentence at 0x7fd3dcf41b70>,\n",
       " <translation_machine.sentence_mod._create_sentence_type.<locals>.Sentence at 0x7fd3dcf417b0>)"
      ]
     },
     "execution_count": 279,
     "metadata": {},
     "output_type": "execute_result"
    }
   ],
   "source": [
    "english_sentence,french_sentence = dataset_overfitted_on[0]\n",
    "english_sentence,french_sentence"
   ]
  },
  {
   "cell_type": "code",
   "execution_count": 280,
   "id": "5a012fd2",
   "metadata": {},
   "outputs": [
    {
     "data": {
      "text/plain": [
       "(['Va', '!'], ['Go', '.'])"
      ]
     },
     "execution_count": 280,
     "metadata": {},
     "output_type": "execute_result"
    }
   ],
   "source": [
    "french_sentence.as_words,english_sentence.as_words"
   ]
  },
  {
   "cell_type": "code",
   "execution_count": 281,
   "id": "1bedf127",
   "metadata": {},
   "outputs": [],
   "source": [
    "preds_and_targets = [(translator(english_sentence),french_sentence) for english_sentence,french_sentence in dataset_overfitted_on]\n",
    "preds,targets = zip(*preds_and_targets)"
   ]
  },
  {
   "cell_type": "code",
   "execution_count": 420,
   "id": "08f2f1b8",
   "metadata": {},
   "outputs": [],
   "source": [
    "from translation_machine.metrics import bleu_score_nltk_mod\n",
    "\n",
    "ff = bleu_score_nltk_mod.BleuSoreNLTK()"
   ]
  },
  {
   "cell_type": "code",
   "execution_count": 421,
   "id": "2cd6a277",
   "metadata": {},
   "outputs": [],
   "source": [
    "a,b = [pred.as_words for pred  in preds] ,[target.as_words for target in targets]\n",
    "ff.update(a,b)\n"
   ]
  },
  {
   "cell_type": "code",
   "execution_count": 422,
   "id": "ca2d94cd",
   "metadata": {},
   "outputs": [
    {
     "data": {
      "text/plain": [
       "0.38150038058561964"
      ]
     },
     "execution_count": 422,
     "metadata": {},
     "output_type": "execute_result"
    }
   ],
   "source": [
    "ff.compute()"
   ]
  },
  {
   "cell_type": "code",
   "execution_count": 423,
   "id": "1d3fa555",
   "metadata": {},
   "outputs": [
    {
     "data": {
      "text/plain": [
       "0.6496296296296297"
      ]
     },
     "execution_count": 423,
     "metadata": {},
     "output_type": "execute_result"
    }
   ],
   "source": [
    "targets_1 = [[el.as_words] for el in targets]\n",
    "preds_1 = [el.as_words for el in preds]\n",
    "\n",
    "corpus_bleu(targets_1,preds_1,smoothing_function=ff.smoothing_function,weights=[0.0,1.0,0.0])"
   ]
  },
  {
   "cell_type": "code",
   "execution_count": 385,
   "id": "0effae76",
   "metadata": {},
   "outputs": [
    {
     "data": {
      "text/plain": [
       "[['Va', '!'],\n",
       " ['Salut', '.'],\n",
       " ['Salut', '.'],\n",
       " ['Courez', '!'],\n",
       " ['Courez', '!'],\n",
       " ['Qui', '?'],\n",
       " ['Ça', 'alors', '!'],\n",
       " ['Au', 'feu', '!'],\n",
       " ['À', 'l', \"'\", 'aide', '!'],\n",
       " ['Saute', '.']]"
      ]
     },
     "execution_count": 385,
     "metadata": {},
     "output_type": "execute_result"
    }
   ],
   "source": [
    "preds_1"
   ]
  },
  {
   "cell_type": "code",
   "execution_count": 374,
   "id": "f500ac1e",
   "metadata": {},
   "outputs": [
    {
     "data": {
      "text/plain": [
       "([[['Va', '!']]], [['Va', '!']])"
      ]
     },
     "execution_count": 374,
     "metadata": {},
     "output_type": "execute_result"
    }
   ],
   "source": [
    "targets_1,preds_1"
   ]
  },
  {
   "cell_type": "code",
   "execution_count": 379,
   "id": "c66ff2c9",
   "metadata": {},
   "outputs": [],
   "source": [
    "from nltk.translate.bleu_score import sentence_bleu\n",
    "reference = [['Va','!']]\n",
    "candidate = ['Va','!']\n",
    "score = sentence_bleu(reference, candidate)"
   ]
  },
  {
   "cell_type": "code",
   "execution_count": 380,
   "id": "ddab6261",
   "metadata": {},
   "outputs": [
    {
     "data": {
      "text/plain": [
       "1.491668146240062e-154"
      ]
     },
     "execution_count": 380,
     "metadata": {},
     "output_type": "execute_result"
    }
   ],
   "source": [
    "score"
   ]
  },
  {
   "cell_type": "code",
   "execution_count": 438,
   "id": "dc782306",
   "metadata": {},
   "outputs": [
    {
     "data": {
      "text/plain": [
       "([['the quick brown fox jumped over the lazy dog']],\n",
       " ['the quick brown fox jumped over the lazy'])"
      ]
     },
     "execution_count": 438,
     "metadata": {},
     "output_type": "execute_result"
    }
   ],
   "source": [
    "references_for_torch_metric,candidate_for_torch_metrics"
   ]
  },
  {
   "cell_type": "code",
   "execution_count": 447,
   "id": "f527b401",
   "metadata": {
    "scrolled": true
   },
   "outputs": [
    {
     "name": "stdout",
     "output_type": "stream",
     "text": [
      "0.8824969025845955\n",
      "0.8824968934059143\n",
      "0.8824969025845955\n"
     ]
    }
   ],
   "source": [
    "\n",
    "from ignite.metrics.nlp import Bleu\n",
    "from nltk.translate.bleu_score import sentence_bleu\n",
    "from torchmetrics.text.bleu import BLEUScore\n",
    "\n",
    "\n",
    "references = [['the', 'quick', 'brown', 'fox', 'jumped', 'over', 'the', 'lazy', 'dog']]\n",
    "candidate = ['the', 'quick', 'brown', 'fox', 'jumped', 'over', 'the', 'lazy' ]\n",
    "\n",
    "\n",
    "#using nltk\n",
    "score = sentence_bleu(references, candidate)\n",
    "print(score)\n",
    "\n",
    "\n",
    "\n",
    "#using torch_metrics\n",
    "\n",
    "references_for_torch_metric = [[\" \".join(el)  for el in references]]\n",
    "candidate_for_torch_metrics = [\" \".join(candidate)]\n",
    "bleu = BLEUScore()\n",
    "print(float(bleu(candidate_for_torch_metrics,references_for_torch_metric)))\n",
    "\n",
    "#using ignite\n",
    "\n",
    "references_for_ignite = [references]\n",
    "candidate_for_ignite = [candidate]\n",
    "\n",
    "bleu = Bleu()\n",
    "bleu.reset()\n",
    "bleu.update((candidate_for_ignite,references_for_ignite))\n",
    "print(float(bleu.compute()))\n",
    "\n",
    "\n",
    "# 0.7102992180127422\n",
    "# 0.0\n",
    "# 0.0"
   ]
  },
  {
   "cell_type": "code",
   "execution_count": 476,
   "id": "012136cd",
   "metadata": {},
   "outputs": [
    {
     "data": {
      "text/plain": [
       "([[['the', 'quick', 'brown', 'fox', 'jumped', 'over', 'the', 'lazy', 'dog']]],\n",
       " [['the', 'quick', 'brown', 'fox', 'jumped', 'over', 'the', 'lazy']])"
      ]
     },
     "execution_count": 476,
     "metadata": {},
     "output_type": "execute_result"
    }
   ],
   "source": [
    "references_for_ignite,candidate_for_ignite"
   ]
  },
  {
   "cell_type": "code",
   "execution_count": 448,
   "id": "67a0f042",
   "metadata": {},
   "outputs": [
    {
     "data": {
      "text/plain": [
       "[['the', 'quick', 'brown', 'fox', 'jumped', 'over', 'the', 'lazy']]"
      ]
     },
     "execution_count": 448,
     "metadata": {},
     "output_type": "execute_result"
    }
   ],
   "source": [
    "candidate_for_ignite_as_int = [[EnglishSentence.vocab[el] for el in el1] for el1 in candidate_for_ignite]\n",
    "references_for_ignite_as_int = [[[EnglishSentence.vocab[el] for el in el1] for el1 in el2] for el2 in references_for_ignite]\n"
   ]
  },
  {
   "cell_type": "code",
   "execution_count": 474,
   "id": "3032c527",
   "metadata": {},
   "outputs": [
    {
     "name": "stdout",
     "output_type": "stream",
     "text": [
      "0.8824969025845955\n"
     ]
    }
   ],
   "source": [
    "bleu = Bleu()\n",
    "bleu.reset()\n",
    "bleu.update((candidate_for_ignite_as_int,references_for_ignite_as_int))\n",
    "print(float(bleu.compute()))"
   ]
  }
 ],
 "metadata": {
  "kernelspec": {
   "display_name": "Python 3 (ipykernel)",
   "language": "python",
   "name": "python3"
  },
  "language_info": {
   "codemirror_mode": {
    "name": "ipython",
    "version": 3
   },
   "file_extension": ".py",
   "mimetype": "text/x-python",
   "name": "python",
   "nbconvert_exporter": "python",
   "pygments_lexer": "ipython3",
   "version": "3.9.12"
  }
 },
 "nbformat": 4,
 "nbformat_minor": 5
}
