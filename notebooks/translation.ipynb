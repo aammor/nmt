{
 "cells": [
  {
   "cell_type": "code",
   "execution_count": 1,
   "id": "6873fedc",
   "metadata": {},
   "outputs": [],
   "source": [
    "import numpy as np,torch\n",
    "from torch.utils.data import DataLoader\n",
    "from pathlib import Path\n",
    "from translation_machine import collate_fn_mod\n",
    "from translation_machine import dataset_mod,sentence_mod\n"
   ]
  },
  {
   "cell_type": "code",
   "execution_count": 2,
   "id": "58bc763d",
   "metadata": {},
   "outputs": [],
   "source": [
    "path_dataset = \"../data/french_english_dataset/fra.txt\"\n",
    "path_model_and_dependencies = \"../models/sequence_translator_transformer_over_fitted_adamw.pth\"\n",
    "batch_size = 10\n",
    "limit_length = 10\n",
    "\n",
    "\n",
    "assert Path(path_dataset).exists()\n",
    "assert Path(path_model_and_dependencies).exists()"
   ]
  },
  {
   "cell_type": "code",
   "execution_count": 3,
   "id": "21c5b1ef",
   "metadata": {},
   "outputs": [],
   "source": [
    "language_info = torch.load(\"../models/language_info.pth\")\n",
    "\n",
    "vocab_french = language_info[\"french\"][\"vocab\"]\n",
    "vocab_english = language_info[\"english\"][\"vocab\"]\n",
    "\n",
    "max_length_french = language_info[\"french\"][\"max_sentence_train_val\"]\n",
    "max_length_english = language_info[\"english\"][\"max_sentence_train_val\"]\n",
    "\n",
    "whole_dataset = dataset_mod.DatasetFromTxt(\"../data/french_english_dataset/fra.txt\")\n",
    "dataset = torch.utils.data.Subset(whole_dataset,np.arange(limit_length))\n"
   ]
  },
  {
   "cell_type": "code",
   "execution_count": 4,
   "id": "42f94f44",
   "metadata": {},
   "outputs": [
    {
     "data": {
      "text/plain": [
       "dict_keys(['model_params', 'model_inputs', 'optimizer', 'scheduler', 'losses', 'metrics'])"
      ]
     },
     "execution_count": 4,
     "metadata": {},
     "output_type": "execute_result"
    }
   ],
   "source": [
    "back_up = torch.load(path_model_and_dependencies)\n",
    "\n",
    "\n",
    "dataset = dataset_mod.SentenceDataSet(dataset,sentence_mod.EnglishSentence,sentence_mod.FrenchSentence)\n",
    "\n",
    "collate_fn=collate_fn_mod.get_collate_fn(max_length_english,max_length_french)\n",
    "\n",
    "dataloader = DataLoader(dataset,batch_size=batch_size,shuffle=True,collate_fn=collate_fn)\n",
    "\n",
    "back_up.keys()"
   ]
  },
  {
   "cell_type": "code",
   "execution_count": 5,
   "id": "b8c442d1",
   "metadata": {},
   "outputs": [
    {
     "data": {
      "text/plain": [
       "False"
      ]
     },
     "execution_count": 5,
     "metadata": {},
     "output_type": "execute_result"
    }
   ],
   "source": [
    "from translation_machine.models import transformer_mod\n",
    "\n",
    "model_inputs = back_up[\"model_inputs\"]\n",
    "\n",
    "model = transformer_mod.TransformerForSeq2Seq(**model_inputs)\n",
    "\n",
    "model.load_state_dict(back_up[\"model_params\"])\n",
    "model = model.eval()\n",
    "model = model.to(\"cuda\")\n",
    "model.training"
   ]
  },
  {
   "cell_type": "code",
   "execution_count": 6,
   "id": "12700e63",
   "metadata": {},
   "outputs": [],
   "source": [
    "from translation_machine import translator_mod\n",
    "\n",
    "translator = translator_mod.Translator(model)"
   ]
  },
  {
   "cell_type": "code",
   "execution_count": 7,
   "id": "e95849f6",
   "metadata": {},
   "outputs": [],
   "source": [
    "translator.model = translator.model.eval()"
   ]
  },
  {
   "cell_type": "code",
   "execution_count": 8,
   "id": "ca5bf3b8",
   "metadata": {},
   "outputs": [
    {
     "name": "stderr",
     "output_type": "stream",
     "text": [
      "/root/miniconda/lib/python3.9/site-packages/torch/nn/modules/activation.py:1144: UserWarning: Converting mask without torch.bool dtype to bool; this will negatively affect performance. Prefer to use a boolean mask directly. (Triggered internally at ../aten/src/ATen/native/transformers/attention.cpp:150.)\n",
      "  return torch._native_multi_head_attention(\n"
     ]
    },
    {
     "name": "stdout",
     "output_type": "stream",
     "text": [
      "input sentence :  Go .\n",
      "target sentence <sos> Va ! <eos>\n",
      "predicted sentence <sos> Qui ? <eos>\n",
      "\n",
      "\n",
      "input sentence :  Hi .\n",
      "target sentence <sos> Salut ! <eos>\n",
      "predicted sentence <sos> Salut ! <eos>\n",
      "\n",
      "\n",
      "input sentence :  Hi .\n",
      "target sentence <sos> Salut . <eos>\n",
      "predicted sentence <sos> Salut ! <eos>\n",
      "\n",
      "\n",
      "input sentence :  Run !\n",
      "target sentence <sos> Cours ! <eos>\n",
      "predicted sentence <sos> ! <eos>\n",
      "\n",
      "\n",
      "input sentence :  Run !\n",
      "target sentence <sos> Courez ! <eos>\n",
      "predicted sentence <sos> ! <eos>\n",
      "\n",
      "\n",
      "input sentence :  Who ?\n",
      "target sentence <sos> Qui ? <eos>\n",
      "predicted sentence <sos> Qui ? <eos>\n",
      "\n",
      "\n",
      "input sentence :  Wow !\n",
      "target sentence <sos> Ça alors ! <eos>\n",
      "predicted sentence <sos> ! <eos>\n",
      "\n",
      "\n",
      "input sentence :  Fire !\n",
      "target sentence <sos> Au feu ! <eos>\n",
      "predicted sentence <sos> ! <eos>\n",
      "\n",
      "\n",
      "input sentence :  Help !\n",
      "target sentence <sos> À l' aide ! <eos>\n",
      "predicted sentence <sos> Va ! <eos>\n",
      "\n",
      "\n",
      "input sentence :  Jump .\n",
      "target sentence <sos> Saute . <eos>\n",
      "predicted sentence <sos> Salut ! <eos>\n",
      "\n",
      "\n"
     ]
    }
   ],
   "source": [
    "for english_sentence,french_sentence in  dataset:\n",
    "    translation = translator(english_sentence,limit_sentence=10)\n",
    "    print(f\"input sentence :  {english_sentence}\")\n",
    "    print(f\"target sentence {french_sentence}\")\n",
    "    print(f\"predicted sentence {translation}\")\n",
    "    print(\"\\n\")"
   ]
  },
  {
   "cell_type": "code",
   "execution_count": null,
   "id": "8e6e39de",
   "metadata": {},
   "outputs": [],
   "source": []
  }
 ],
 "metadata": {
  "kernelspec": {
   "display_name": "Python 3 (ipykernel)",
   "language": "python",
   "name": "python3"
  },
  "language_info": {
   "codemirror_mode": {
    "name": "ipython",
    "version": 3
   },
   "file_extension": ".py",
   "mimetype": "text/x-python",
   "name": "python",
   "nbconvert_exporter": "python",
   "pygments_lexer": "ipython3",
   "version": "3.9.12"
  }
 },
 "nbformat": 4,
 "nbformat_minor": 5
}
