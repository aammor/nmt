{
 "cells": [
  {
   "cell_type": "code",
   "execution_count": 1,
   "id": "6873fedc",
   "metadata": {
    "tags": []
   },
   "outputs": [],
   "source": [
    "import numpy as np,torch\n",
    "from torch.utils.data import DataLoader\n",
    "from pathlib import Path\n",
    "from translation_machine import collate_fn_mod\n",
    "from translation_machine import dataset_mod,sentence_mod\n",
    "\n",
    "import torch,inspect\n",
    "import argparse\n",
    "from pathlib import Path\n",
    "from functools import partial\n",
    "import numpy as np\n",
    "from argparse import Namespace\n"
   ]
  },
  {
   "cell_type": "code",
   "execution_count": 2,
   "id": "acaf9d39-d4b5-470d-bffb-01ad86afd444",
   "metadata": {
    "tags": []
   },
   "outputs": [],
   "source": [
    "from dev import namespace_tools\n",
    "import torch\n",
    "path_back_up = \"../models/sequence_translator_transformer_new.pth\"\n",
    "\n",
    "state_dict = torch.load(path_back_up)\n",
    "notebook_run = namespace_tools.NameSpaceAggregation.load_state_dict(state_dict[\"notebook_runs\"][-1])\n",
    "notebook_run.diffuse(globals())"
   ]
  },
  {
   "cell_type": "code",
   "execution_count": null,
   "id": "7c3732b0-b44d-4b70-975e-4408e2b4f0ec",
   "metadata": {},
   "outputs": [],
   "source": [
    "train_state_control.load_from_backup = True\n"
   ]
  },
  {
   "cell_type": "code",
   "execution_count": 3,
   "id": "506c77fd-b2a8-443c-adaa-92f0641d0b41",
   "metadata": {
    "tags": []
   },
   "outputs": [
    {
     "name": "stderr",
     "output_type": "stream",
     "text": [
      "Executing cell: 13: 100%|███████████████████████| 21/21 [00:00<00:00, 27.18it/s]\n"
     ]
    }
   ],
   "source": [
    "from ploomber_engine.ipython import PloomberClient\n",
    "from ploomber import DAG\n",
    "from pathlib import Path\n",
    "from ploomber.products import File\n",
    "\n",
    "# initialize client\n",
    "client = PloomberClient.from_path(Path(\"./trainings/training_setup.ipynb\"),cwd=Path(\"../../\"))\n",
    "from argparse import Namespace\n",
    "\n",
    "from translation_machine.models import transformer_mod\n",
    "from translation_machine import sentence_mod\n",
    "\n",
    "initial_namespace_as_dict = notebook_run.diffuse()\n",
    "train_setup = client.get_namespace(initial_namespace_as_dict)\n",
    "for key,val in train_setup.items():\n",
    "        globals()[key] = val"
   ]
  },
  {
   "cell_type": "code",
   "execution_count": 4,
   "id": "b8c442d1",
   "metadata": {
    "tags": []
   },
   "outputs": [
    {
     "data": {
      "text/plain": [
       "False"
      ]
     },
     "execution_count": 4,
     "metadata": {},
     "output_type": "execute_result"
    }
   ],
   "source": [
    "from translation_machine.models import transformer_mod\n",
    "\n",
    "model_inputs = back_up_train_state[\"model_inputs\"]\n",
    "\n",
    "model = transformer_mod.TransformerForSeq2Seq(**model_inputs)\n",
    "\n",
    "model.load_state_dict(back_up_train_state[\"model_params\"])\n",
    "model = model.eval()\n",
    "model = model.to(\"cuda\")\n",
    "model.training"
   ]
  },
  {
   "cell_type": "code",
   "execution_count": 5,
   "id": "12700e63",
   "metadata": {
    "tags": []
   },
   "outputs": [],
   "source": [
    "from translation_machine import translator_mod\n",
    "\n",
    "translator = translator_mod.Translator(model)"
   ]
  },
  {
   "cell_type": "code",
   "execution_count": 6,
   "id": "e95849f6",
   "metadata": {
    "tags": []
   },
   "outputs": [],
   "source": [
    "translator.model = translator.model.eval()"
   ]
  },
  {
   "cell_type": "code",
   "execution_count": null,
   "id": "ca5bf3b8",
   "metadata": {
    "tags": []
   },
   "outputs": [
    {
     "name": "stderr",
     "output_type": "stream",
     "text": [
      "/root/miniconda/lib/python3.9/site-packages/torch/nn/modules/activation.py:1144: UserWarning: Converting mask without torch.bool dtype to bool; this will negatively affect performance. Prefer to use a boolean mask directly. (Triggered internally at ../aten/src/ATen/native/transformers/attention.cpp:150.)\n",
      "  return torch._native_multi_head_attention(\n"
     ]
    },
    {
     "name": "stdout",
     "output_type": "stream",
     "text": [
      "input sentence :  Go .\n",
      "target sentence  : <sos> Va ! <eos>\n",
      "predicted sentence <sos> ! ! ! ! ! ! ! ! ! <eos>\n",
      "\n",
      "\n",
      "input sentence :  Hi .\n",
      "target sentence  : <sos> Salut ! <eos>\n",
      "predicted sentence <sos> ! ! ! ! ! ! ! ! ! <eos>\n",
      "\n",
      "\n",
      "input sentence :  Hi .\n",
      "target sentence  : <sos> Salut . <eos>\n",
      "predicted sentence <sos> ! ! ! ! ! ! ! ! ! <eos>\n",
      "\n",
      "\n",
      "input sentence :  Run !\n",
      "target sentence  : <sos> Cours ! <eos>\n",
      "predicted sentence <sos> ! ! ! ! ! ! ! ! ! <eos>\n",
      "\n",
      "\n",
      "input sentence :  Run !\n",
      "target sentence  : <sos> Courez ! <eos>\n",
      "predicted sentence <sos> ! ! ! ! ! ! ! ! ! <eos>\n",
      "\n",
      "\n",
      "input sentence :  Who ?\n",
      "target sentence  : <sos> Qui ? <eos>\n",
      "predicted sentence <sos> ! ! ! ! ! ! ! ! ! <eos>\n",
      "\n",
      "\n",
      "input sentence :  Wow !\n",
      "target sentence  : <sos> Ça alors ! <eos>\n",
      "predicted sentence <sos> ! ! ! ! ! ! ! ! ! <eos>\n",
      "\n",
      "\n",
      "input sentence :  Fire !\n",
      "target sentence  : <sos> Au feu ! <eos>\n",
      "predicted sentence <sos> ! ! ! ! ! ! ! ! ! <eos>\n",
      "\n",
      "\n",
      "input sentence :  Help !\n",
      "target sentence  : <sos> À l' aide ! <eos>\n",
      "predicted sentence <sos> ! ! ! ! ! ! ! ! ! <eos>\n",
      "\n",
      "\n",
      "input sentence :  Jump .\n",
      "target sentence  : <sos> Saute . <eos>\n",
      "predicted sentence <sos> ! ! ! ! ! ! ! ! ! <eos>\n",
      "\n",
      "\n",
      "input sentence :  Stop !\n",
      "target sentence  : <sos> Ça suffit ! <eos>\n",
      "predicted sentence <sos> ! ! ! ! ! ! ! ! ! <eos>\n",
      "\n",
      "\n",
      "input sentence :  Stop !\n",
      "target sentence  : <sos> Stop ! <eos>\n",
      "predicted sentence <sos> ! ! ! ! ! ! ! ! ! <eos>\n",
      "\n",
      "\n",
      "input sentence :  Stop !\n",
      "target sentence  : <sos> Arrête - toi ! <eos>\n",
      "predicted sentence <sos> ! ! ! ! ! ! ! ! ! <eos>\n",
      "\n",
      "\n",
      "input sentence :  Wait !\n",
      "target sentence  : <sos> Attends ! <eos>\n",
      "predicted sentence <sos> ! ! ! ! ! ! ! ! ! <eos>\n",
      "\n",
      "\n",
      "input sentence :  Wait !\n",
      "target sentence  : <sos> Attendez ! <eos>\n",
      "predicted sentence <sos> ! ! ! ! ! ! ! ! ! <eos>\n",
      "\n",
      "\n"
     ]
    }
   ],
   "source": [
    "\n",
    "for english_sentence,french_sentence in train_dataset:\n",
    "    translation = translator(english_sentence,limit_sentence=10)\n",
    "    print(f\"input sentence :  {english_sentence}\")\n",
    "    print(f\"target sentence  : {french_sentence}\")\n",
    "    print(f\"predicted sentence {translation}\")\n",
    "    print(\"\\n\")"
   ]
  },
  {
   "cell_type": "code",
   "execution_count": null,
   "id": "fbaafad9-5276-47cd-b272-bc21f410fd9a",
   "metadata": {},
   "outputs": [],
   "source": []
  }
 ],
 "metadata": {
  "kernelspec": {
   "display_name": "Python 3 (ipykernel)",
   "language": "python",
   "name": "python3"
  },
  "language_info": {
   "codemirror_mode": {
    "name": "ipython",
    "version": 3
   },
   "file_extension": ".py",
   "mimetype": "text/x-python",
   "name": "python",
   "nbconvert_exporter": "python",
   "pygments_lexer": "ipython3",
   "version": "3.9.12"
  }
 },
 "nbformat": 4,
 "nbformat_minor": 5
}
