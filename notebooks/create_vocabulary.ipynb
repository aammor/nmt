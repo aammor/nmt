{
 "cells": [
  {
   "cell_type": "code",
   "execution_count": 13,
   "id": "27b08bdc-0598-49d5-83ee-ebbd1ec1d3e3",
   "metadata": {
    "tags": []
   },
   "outputs": [
    {
     "name": "stdout",
     "output_type": "stream",
     "text": [
      "data already downloaded\n"
     ]
    }
   ],
   "source": [
    "from pathlib import Path\n",
    "if Path(\"../data/\").exists():\n",
    "    print(\"data already downloaded\")\n",
    "    pass\n",
    "else:\n",
    "    !gsutil cp -r gs://translation-dataset-aa/data ../"
   ]
  },
  {
   "cell_type": "code",
   "execution_count": 14,
   "id": "fba0c5a3",
   "metadata": {
    "tags": []
   },
   "outputs": [],
   "source": [
    "from translation_machine import dataset_mod\n",
    "import numpy as np,torch,os,itertools\n",
    "from torchtext.data.utils import get_tokenizer\n",
    "# we use the same tokenizer for english and \n",
    "english_tokenizer = get_tokenizer('spacy', language='en_core_web_sm')\n",
    "french_tokenizer = get_tokenizer('spacy', language='fr_core_news_sm')"
   ]
  },
  {
   "cell_type": "code",
   "execution_count": 15,
   "id": "927f04ea",
   "metadata": {
    "tags": []
   },
   "outputs": [
    {
     "data": {
      "text/plain": [
       "(12, 19)"
      ]
     },
     "execution_count": 15,
     "metadata": {},
     "output_type": "execute_result"
    }
   ],
   "source": [
    "from itertools import islice\n",
    "import torchtext\n",
    "from torchtext.vocab import build_vocab_from_iterator\n",
    "\n",
    "\n",
    "\n",
    "english_iterator = (english_tokenizer(english_sentence) for english_sentence,french_sentence in train_val_dataset)\n",
    "french_iterator = (french_tokenizer(french_sentence) for english_sentence,french_sentence in train_val_dataset)\n",
    "\n",
    "vocab_english = torchtext.vocab.build_vocab_from_iterator(english_iterator,specials=['<unk>'])\n",
    "vocab_french = torchtext.vocab.build_vocab_from_iterator(french_iterator,specials=['<unk>','<sos>','<eos>'])\n",
    "\n",
    "vocab_english.set_default_index(vocab_english['<unk>'])\n",
    "vocab_french.set_default_index(vocab_french['<unk>'])\n",
    "len(vocab_english),len(vocab_french)"
   ]
  },
  {
   "cell_type": "code",
   "execution_count": 18,
   "id": "0a18c41a",
   "metadata": {
    "tags": []
   },
   "outputs": [
    {
     "data": {
      "text/plain": [
       "(5, 9)"
      ]
     },
     "execution_count": 18,
     "metadata": {},
     "output_type": "execute_result"
    }
   ],
   "source": [
    "#getting the tallest sequences for each language\n",
    "length_en_sentences = []\n",
    "length_fr_sentrences = []\n",
    "for el in train_val_dataset:\n",
    "    length_en_sentences.append(len(el[0]))\n",
    "    length_fr_sentrences.append(len(el[1]))\n",
    "max_length_french = max(length_fr_sentrences)\n",
    "max_length_english = max(length_en_sentences)\n",
    "max_length_english,max_length_french"
   ]
  },
  {
   "cell_type": "markdown",
   "id": "77b05b25",
   "metadata": {},
   "source": [
    "### saving the vocabulary along with the model"
   ]
  },
  {
   "cell_type": "code",
   "execution_count": 19,
   "id": "4104e0c9",
   "metadata": {
    "tags": []
   },
   "outputs": [],
   "source": [
    "import os\n",
    "os.makedirs(\"../models/vocabs\",exist_ok=True)"
   ]
  },
  {
   "cell_type": "code",
   "execution_count": 20,
   "id": "c0f3355a",
   "metadata": {
    "tags": []
   },
   "outputs": [],
   "source": [
    "french_language_info = {\"vocab\":vocab_french,\n",
    "                           \"max_sentence_train_val\":max_length_french}\n",
    "english_language_info = {\"vocab\":vocab_english,\n",
    "                           \"max_sentence_train_val\":max_length_english}\n",
    "\n",
    "language_info = {\"french\":french_language_info,\n",
    "                \"english\":english_language_info,\n",
    "                \"length_dataset_for_vocab\":len(train_val_dataset)}\n",
    "\n",
    "torch.save(language_info,path_language_info)"
   ]
  },
  {
   "cell_type": "markdown",
   "id": "f7ac95ec",
   "metadata": {},
   "source": [
    "### some  sanity tests for io of vocabs  "
   ]
  },
  {
   "cell_type": "code",
   "execution_count": 21,
   "id": "3e025f9a",
   "metadata": {
    "tags": []
   },
   "outputs": [],
   "source": [
    "language_info_from_file = torch.load(path_language_info)\n",
    "vocab_english_from_file = language_info[\"english\"][\"vocab\"]\n",
    "vocab_french_from_file = language_info[\"french\"][\"vocab\"]"
   ]
  },
  {
   "cell_type": "code",
   "execution_count": 22,
   "id": "e40af71d",
   "metadata": {
    "tags": []
   },
   "outputs": [],
   "source": [
    "assert vocab_french.vocab.get_itos() == vocab_french_from_file.vocab.get_itos() \n",
    "assert vocab_french.vocab.get_stoi() == vocab_french_from_file.vocab.get_stoi() "
   ]
  },
  {
   "cell_type": "code",
   "execution_count": 23,
   "id": "9ddd3f39",
   "metadata": {
    "tags": []
   },
   "outputs": [],
   "source": [
    "assert vocab_english.vocab.get_itos() == vocab_english.vocab.get_itos()\n",
    "assert vocab_english.vocab.get_stoi() == vocab_english_from_file.vocab.get_stoi() "
   ]
  },
  {
   "cell_type": "code",
   "execution_count": 25,
   "id": "ea86cbcf-dac4-4d76-815a-64cfe88fc98e",
   "metadata": {
    "tags": []
   },
   "outputs": [
    {
     "data": {
      "text/plain": [
       "(['<unk>',\n",
       "  '!',\n",
       "  '.',\n",
       "  'Hi',\n",
       "  'Run',\n",
       "  '?',\n",
       "  'Fire',\n",
       "  'Go',\n",
       "  'Help',\n",
       "  'Jump',\n",
       "  'Who',\n",
       "  'Wow'],\n",
       " ['<unk>',\n",
       "  '!',\n",
       "  '.',\n",
       "  'Hi',\n",
       "  'Run',\n",
       "  '?',\n",
       "  'Fire',\n",
       "  'Go',\n",
       "  'Help',\n",
       "  'Jump',\n",
       "  'Who',\n",
       "  'Wow'])"
      ]
     },
     "execution_count": 25,
     "metadata": {},
     "output_type": "execute_result"
    }
   ],
   "source": [
    "vocab_english.vocab.get_itos(),vocab_english.vocab.get_itos()"
   ]
  },
  {
   "cell_type": "code",
   "execution_count": null,
   "id": "7b3ac721-64ce-4e17-b03b-c2a01e2d87b9",
   "metadata": {},
   "outputs": [],
   "source": []
  }
 ],
 "metadata": {
  "kernelspec": {
   "display_name": "Python 3 (ipykernel)",
   "language": "python",
   "name": "python3"
  },
  "language_info": {
   "codemirror_mode": {
    "name": "ipython",
    "version": 3
   },
   "file_extension": ".py",
   "mimetype": "text/x-python",
   "name": "python",
   "nbconvert_exporter": "python",
   "pygments_lexer": "ipython3",
   "version": "3.9.12"
  }
 },
 "nbformat": 4,
 "nbformat_minor": 5
}
