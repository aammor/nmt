{
 "cells": [
  {
   "cell_type": "code",
   "execution_count": 1,
   "id": "4b71028f",
   "metadata": {},
   "outputs": [],
   "source": [
    "limit_length = 20000 #vocabulary is learned for this number fo sentence"
   ]
  },
  {
   "cell_type": "code",
   "execution_count": 2,
   "id": "03f5ce33",
   "metadata": {},
   "outputs": [],
   "source": [
    "from pathlib import Path\n",
    "if Path(\"../data/\").exists():\n",
    "    pass\n",
    "else:\n",
    "    !gsutil cp -r gs://translation-dataset-aa/data ../"
   ]
  },
  {
   "cell_type": "code",
   "execution_count": 3,
   "id": "fba0c5a3",
   "metadata": {},
   "outputs": [],
   "source": [
    "from translation_machine import dataset_mod\n",
    "import numpy as np\n",
    "import torch\n",
    "whole_dataset = dataset_mod.DatasetFromTxt(\"../data/french_english_dataset/fra.txt\",limit_length=limit_length)\n",
    "\n",
    "nb_folds = 9\n",
    "idxs_train = [el  for i in range(nb_folds-2) for el in np.arange(i,len(whole_dataset),nb_folds)]\n",
    "idxs_val = np.arange(nb_folds-2,len(whole_dataset),nb_folds)\n",
    "idxs_test = np.arange(nb_folds-1,len(whole_dataset),nb_folds)\n",
    "\n",
    "import os\n",
    "os.makedirs(\"../dataset_splitting\",exist_ok=True)\n",
    "np.save(\"../dataset_splitting/idxs_train\",idxs_train)\n",
    "np.save(\"../dataset_splitting/idxs_val\",idxs_val)\n",
    "np.save(\"../dataset_splitting/idxs_test\",idxs_test)\n",
    "\n",
    "\n",
    "#TODO: check is that 'DatasetFromTxt' is fully loaded\n",
    "train_dataset = torch.utils.data.Subset(whole_dataset,idxs_train)\n",
    "val_dataset = torch.utils.data.Subset(whole_dataset,idxs_val)\n",
    "\n",
    "assert np.all(np.load(\"../dataset_splitting/idxs_train.npy\") == idxs_train)\n",
    "assert np.all(np.load(\"../dataset_splitting/idxs_test.npy\") == idxs_test)\n",
    "assert np.all(np.load(\"../dataset_splitting/idxs_val.npy\") == idxs_val)"
   ]
  },
  {
   "cell_type": "code",
   "execution_count": 4,
   "id": "d26af039",
   "metadata": {},
   "outputs": [
    {
     "data": {
      "text/plain": [
       "(0.7778, 0.1111, 0.1111)"
      ]
     },
     "execution_count": 4,
     "metadata": {},
     "output_type": "execute_result"
    }
   ],
   "source": [
    "len(idxs_train)/len(whole_dataset),len(idxs_test)/len(whole_dataset),len(idxs_val)/len(whole_dataset)"
   ]
  },
  {
   "cell_type": "code",
   "execution_count": 5,
   "id": "af0860bd",
   "metadata": {},
   "outputs": [],
   "source": [
    "import itertools\n",
    "train_val_dataset = list(itertools.chain(train_dataset,val_dataset))"
   ]
  },
  {
   "cell_type": "code",
   "execution_count": 6,
   "id": "58b1841e",
   "metadata": {},
   "outputs": [],
   "source": [
    "from torchtext.data.utils import get_tokenizer\n",
    "# we use the same tokenizer for english and \n",
    "english_tokenizer = get_tokenizer('spacy', language='en_core_web_sm')\n",
    "french_tokenizer = get_tokenizer('spacy', language='fr_core_news_sm')"
   ]
  },
  {
   "cell_type": "code",
   "execution_count": 7,
   "id": "927f04ea",
   "metadata": {},
   "outputs": [
    {
     "data": {
      "text/plain": [
       "(694, 722)"
      ]
     },
     "execution_count": 7,
     "metadata": {},
     "output_type": "execute_result"
    }
   ],
   "source": [
    "from collections import Counter, OrderedDict\n",
    "from itertools import islice\n",
    "import torchtext\n",
    "from torchtext.vocab import build_vocab_from_iterator\n",
    "\n",
    "english_counter = Counter()\n",
    "french_counter = Counter()\n",
    "\n",
    "from tqdm import tqdm\n",
    "for idx,el in enumerate(train_val_dataset):\n",
    "    english_sentence = english_tokenizer(el[0])\n",
    "    french_sentence = french_tokenizer(el[1])\n",
    "    english_counter.update(english_sentence)\n",
    "    french_counter.update(french_sentence)\n",
    "\n",
    "\n",
    "vocab_english = torchtext.vocab.vocab(english_counter,min_freq=10,specials=['<unk>'])\n",
    "vocab_french = torchtext.vocab.vocab(french_counter,min_freq=10,specials=['<unk>','<sos>','<eos>'])\n",
    "\n",
    "vocab_english.set_default_index(vocab_english['<unk>'])\n",
    "vocab_french.set_default_index(vocab_french['<unk>'])\n",
    "len(vocab_english),len(vocab_french)"
   ]
  },
  {
   "cell_type": "code",
   "execution_count": 8,
   "id": "0a18c41a",
   "metadata": {},
   "outputs": [
    {
     "data": {
      "text/plain": [
       "(18, 57)"
      ]
     },
     "execution_count": 8,
     "metadata": {},
     "output_type": "execute_result"
    }
   ],
   "source": [
    "#getting the tallest sequences for each language\n",
    "length_en_sentences = []\n",
    "length_fr_sentrences = []\n",
    "for el in train_val_dataset:\n",
    "    length_en_sentences.append(len(el[0]))\n",
    "    length_fr_sentrences.append(len(el[1]))\n",
    "max_length_french = max(length_fr_sentrences)\n",
    "max_length_english = max(length_en_sentences)\n",
    "max_length_english,max_length_french"
   ]
  },
  {
   "cell_type": "markdown",
   "id": "77b05b25",
   "metadata": {},
   "source": [
    "### saving the vocabulary along with the model"
   ]
  },
  {
   "cell_type": "code",
   "execution_count": 9,
   "id": "4104e0c9",
   "metadata": {},
   "outputs": [],
   "source": [
    "import os\n",
    "os.makedirs(\"../models/vocabs\",exist_ok=True)"
   ]
  },
  {
   "cell_type": "code",
   "execution_count": 10,
   "id": "c0f3355a",
   "metadata": {},
   "outputs": [],
   "source": [
    "french_language_info = {\"vocab\":vocab_french,\n",
    "                           \"max_sentence_train_val\":max_length_french}\n",
    "english_language_info = {\"vocab\":vocab_english,\n",
    "                           \"max_sentence_train_val\":max_length_english}\n",
    "\n",
    "language_info = {\"french\":french_language_info,\n",
    "                \"english\":english_language_info,\n",
    "                \"limit_length\":len(whole_dataset)}\n",
    "\n",
    "torch.save(language_info,\"../models/language_info.pth\")"
   ]
  },
  {
   "cell_type": "markdown",
   "id": "f7ac95ec",
   "metadata": {},
   "source": [
    "### some  sanity tests for io of vocabs  "
   ]
  },
  {
   "cell_type": "code",
   "execution_count": 11,
   "id": "3e025f9a",
   "metadata": {},
   "outputs": [],
   "source": [
    "language_info_from_file = torch.load(\"../models/language_info.pth\")\n",
    "vocab_english_from_file = language_info[\"english\"][\"vocab\"]\n",
    "vocab_french_from_file = language_info[\"french\"][\"vocab\"]"
   ]
  },
  {
   "cell_type": "code",
   "execution_count": 12,
   "id": "e40af71d",
   "metadata": {},
   "outputs": [],
   "source": [
    "assert vocab_french.vocab.get_itos() == vocab_french_from_file.vocab.get_itos() \n",
    "assert vocab_french.vocab.get_stoi() == vocab_french_from_file.vocab.get_stoi() "
   ]
  },
  {
   "cell_type": "code",
   "execution_count": 13,
   "id": "9ddd3f39",
   "metadata": {},
   "outputs": [],
   "source": [
    "assert vocab_english.vocab.get_itos() == vocab_english_from_file.vocab.get_itos() \n",
    "assert vocab_english.vocab.get_stoi() == vocab_english_from_file.vocab.get_stoi() "
   ]
  },
  {
   "cell_type": "code",
   "execution_count": null,
   "id": "6ac07389",
   "metadata": {},
   "outputs": [],
   "source": []
  }
 ],
 "metadata": {
  "kernelspec": {
   "display_name": "Python 3 (ipykernel)",
   "language": "python",
   "name": "python3"
  },
  "language_info": {
   "codemirror_mode": {
    "name": "ipython",
    "version": 3
   },
   "file_extension": ".py",
   "mimetype": "text/x-python",
   "name": "python",
   "nbconvert_exporter": "python",
   "pygments_lexer": "ipython3",
   "version": "3.9.12"
  }
 },
 "nbformat": 4,
 "nbformat_minor": 5
}
