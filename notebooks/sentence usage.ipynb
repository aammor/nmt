{
 "cells": [
  {
   "cell_type": "raw",
   "id": "fddbf3dd",
   "metadata": {},
   "source": [
    "#TODO convert that to test for Sentence object"
   ]
  },
  {
   "cell_type": "code",
   "execution_count": 4,
   "id": "f368c0d5",
   "metadata": {},
   "outputs": [
    {
     "name": "stdout",
     "output_type": "stream",
     "text": [
      "Je m ' en suis bien sortie .\n"
     ]
    }
   ],
   "source": [
    "import numpy as np,torch\n",
    "\n",
    "from translation_machine.sentence_mod import FrenchSentence,EnglishSentence\n",
    "from translation_machine import dataset_mod,sentence_mod\n",
    "\n",
    "whole_dataset = dataset_mod.DatasetFromTxt(\"../data/french_english_dataset/fra.txt\")\n",
    "idxs_test = np.load(\"../dataset_splitting/idx_test.npy\")\n",
    "\n",
    "test_dataset = torch.utils.data.Subset(whole_dataset,idxs_test)\n",
    "\n",
    "\n",
    "\n",
    "english_sentence,french_sentence = test_dataset[100]\n",
    "\n",
    "ff = FrenchSentence(french_sentence)\n",
    "\n",
    "ff.as_words,ff.as_int,ff.pad(10)\n",
    "print(FrenchSentence.from_token_int(ff.pad(10)))"
   ]
  }
 ],
 "metadata": {
  "kernelspec": {
   "display_name": "Python 3 (ipykernel)",
   "language": "python",
   "name": "python3"
  },
  "language_info": {
   "codemirror_mode": {
    "name": "ipython",
    "version": 3
   },
   "file_extension": ".py",
   "mimetype": "text/x-python",
   "name": "python",
   "nbconvert_exporter": "python",
   "pygments_lexer": "ipython3",
   "version": "3.10.9"
  }
 },
 "nbformat": 4,
 "nbformat_minor": 5
}
