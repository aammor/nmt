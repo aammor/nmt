{
 "cells": [
  {
   "cell_type": "code",
   "execution_count": 1,
   "id": "d0952a11",
   "metadata": {},
   "outputs": [
    {
     "name": "stderr",
     "output_type": "stream",
     "text": [
      "/home/amine_ammor_91/miniconda3/envs/trans_mach_env/lib/python3.10/site-packages/tqdm/auto.py:21: TqdmWarning: IProgress not found. Please update jupyter and ipywidgets. See https://ipywidgets.readthedocs.io/en/stable/user_install.html\n",
      "  from .autonotebook import tqdm as notebook_tqdm\n",
      "/home/amine_ammor_91/miniconda3/envs/trans_mach_env/lib/python3.10/site-packages/torchtext/data/utils.py:105: UserWarning: Spacy model \"en\" could not be loaded, trying \"en_core_web_sm\" instead\n",
      "  warnings.warn(\n",
      "/home/amine_ammor_91/miniconda3/envs/trans_mach_env/lib/python3.10/site-packages/torchtext/data/utils.py:105: UserWarning: Spacy model \"fr\" could not be loaded, trying \"fr_core_news_sm\" instead\n",
      "  warnings.warn(\n"
     ]
    }
   ],
   "source": [
    "import numpy as np,torch\n",
    "\n",
    "from translation_machine import dataset_mod,sentence_mod\n",
    "\n",
    "whole_dataset = dataset_mod.DatasetFromTxt(\"../data/french_english_dataset/fra.txt\")\n",
    "idxs = np.load(\"../dataset_splitting/idx_train.npy\")\n",
    "    \n",
    "\n",
    "dataset_test = dataset_mod.SentenceDataSet(torch.utils.data.Subset(whole_dataset,idxs),\n",
    "                                                   sentence_mod.EnglishSentence,\n",
    "                                                   sentence_mod.FrenchSentence)\n"
   ]
  },
  {
   "cell_type": "code",
   "execution_count": 2,
   "id": "185634f5",
   "metadata": {},
   "outputs": [],
   "source": [
    "from translation_machine import model_mod,model_bidirectionnal_mod\n",
    "\n",
    "\n",
    "path = \"../models/sequence_translator_bidirectionnal.pth\"\n",
    "back_up = torch.load(path)\n",
    "\n",
    "model_inputs = back_up[\"model_inputs\"]\n",
    "sequence_translator = model_bidirectionnal_mod.SequenceTranslator(**model_inputs)\n"
   ]
  },
  {
   "cell_type": "code",
   "execution_count": 3,
   "id": "7a441664",
   "metadata": {},
   "outputs": [
    {
     "data": {
      "text/plain": [
       "SequenceTranslator(\n",
       "  (src_embedding_layer): Embedding(4076, 128)\n",
       "  (dst_embedding_layer): Embedding(5407, 128)\n",
       "  (encoder): LSTM(128, 256, batch_first=True, bidirectional=True)\n",
       "  (decoder): LSTM(128, 512, batch_first=True)\n",
       "  (linear_layer): Linear(in_features=512, out_features=5407, bias=True)\n",
       ")"
      ]
     },
     "execution_count": 3,
     "metadata": {},
     "output_type": "execute_result"
    }
   ],
   "source": [
    "from pathlib import Path\n",
    "\n",
    "sequence_translator.load_state_dict(back_up[\"model_params\"])\n",
    "sequence_translator.eval()"
   ]
  },
  {
   "cell_type": "code",
   "execution_count": 4,
   "id": "1d54d49b",
   "metadata": {},
   "outputs": [],
   "source": [
    "from translation_machine import translator_mod\n",
    "\n",
    "translator = translator_mod.Translator(sequence_translator)"
   ]
  },
  {
   "cell_type": "code",
   "execution_count": 5,
   "id": "1f9abbba",
   "metadata": {},
   "outputs": [
    {
     "data": {
      "text/plain": [
       "(<translation_machine.sentence_mod._create_sentence_type.<locals>.Sentence at 0x7f2cd0114130>,\n",
       " <translation_machine.sentence_mod._create_sentence_type.<locals>.Sentence at 0x7f2c00400160>)"
      ]
     },
     "execution_count": 5,
     "metadata": {},
     "output_type": "execute_result"
    }
   ],
   "source": [
    "english_sentence,french_sentence = dataset_test[0]\n",
    "english_sentence,french_sentence"
   ]
  },
  {
   "cell_type": "code",
   "execution_count": 6,
   "id": "5a012fd2",
   "metadata": {},
   "outputs": [
    {
     "data": {
      "text/plain": [
       "(['Va', '!'], ['Go', '.'])"
      ]
     },
     "execution_count": 6,
     "metadata": {},
     "output_type": "execute_result"
    }
   ],
   "source": [
    "french_sentence.as_words,english_sentence.as_words"
   ]
  },
  {
   "cell_type": "code",
   "execution_count": 7,
   "id": "1bedf127",
   "metadata": {},
   "outputs": [],
   "source": [
    "from itertools import islice\n",
    "preds_and_targets = [(translator(english_sentence),french_sentence) for english_sentence,french_sentence in islice(dataset_test,10)]\n",
    "preds,targets = zip(*preds_and_targets)"
   ]
  },
  {
   "cell_type": "code",
   "execution_count": 8,
   "id": "5d555c56",
   "metadata": {},
   "outputs": [
    {
     "name": "stdout",
     "output_type": "stream",
     "text": [
      "['Allez', 'attraper', 'le', 'train', 'de', 'pleurer', '.'] ['Va', '!']\n",
      "['mourut', '.'] ['Saute', '.']\n",
      "['Bonjour', '-', 'huit', '.'] ['Bonjour', '!']\n",
      "['-', 'tu', 'que', 'signifie', '.'] ['Attaquez', '!']\n",
      "['-', 'toi', '.'] [\"J'\", 'ai', 'pigé', '!']\n",
      "['Je', 'suis', 'tombé', 'sur', 'le', '.'] ['Je', 'suis', 'tombée', '.']\n",
      "['Je', 'suis', '.'] ['Je', 'vais', 'bien', '.']\n",
      "['-', 'toi', '.'] [\"C'\", 'est', 'exclu', '!']\n",
      "['Nous', 'devons', 'régler', 'de', 'la', '.'] ['Nous', 'gagnâmes', '.']\n",
      "['Soyez', '-vous', 'pas', 'à', 'elles', 'patron', 'sourire', '.'] ['Sois', 'juste', '!']\n"
     ]
    }
   ],
   "source": [
    "for (el0,el1) in preds_and_targets:\n",
    "    print(el0.as_words,el1.as_words)"
   ]
  },
  {
   "cell_type": "code",
   "execution_count": null,
   "id": "fe1862a8",
   "metadata": {},
   "outputs": [],
   "source": []
  }
 ],
 "metadata": {
  "kernelspec": {
   "display_name": "Python 3 (ipykernel)",
   "language": "python",
   "name": "python3"
  },
  "language_info": {
   "codemirror_mode": {
    "name": "ipython",
    "version": 3
   },
   "file_extension": ".py",
   "mimetype": "text/x-python",
   "name": "python",
   "nbconvert_exporter": "python",
   "pygments_lexer": "ipython3",
   "version": "3.10.9"
  }
 },
 "nbformat": 4,
 "nbformat_minor": 5
}
