{
 "cells": [
  {
   "cell_type": "code",
   "execution_count": 1,
   "id": "4c6f84c1",
   "metadata": {
    "scrolled": true
   },
   "outputs": [
    {
     "name": "stderr",
     "output_type": "stream",
     "text": [
      "/Users/aammor/miniforge3/envs/aa_env/lib/python3.8/site-packages/tqdm/auto.py:22: TqdmWarning: IProgress not found. Please update jupyter and ipywidgets. See https://ipywidgets.readthedocs.io/en/stable/user_install.html\n",
      "  from .autonotebook import tqdm as notebook_tqdm\n"
     ]
    }
   ],
   "source": [
    "from translation_machine import dataset_mod\n",
    "import numpy as np\n",
    "import torch\n",
    "whole_dataset = dataset_mod.DatasetFromTxt(\"../data/french_english_dataset/fra.txt\")\n",
    "\n",
    "\n",
    "# Remark : the responsability to split the dataset is done outside of this notebook\n",
    "\n",
    "idxs_train = np.load(\"../dataset_splitting/idx_train.npy\")\n",
    "idxs_val = np.load(\"../dataset_splitting/idx_val.npy\")\n",
    "idxs_test = np.load(\"../dataset_splitting/idx_test.npy\")\n",
    "\n",
    "train_dataset = torch.utils.data.Subset(whole_dataset,idxs_train)\n",
    "val_dataset = torch.utils.data.Subset(whole_dataset,idxs_val)\n",
    "test_dataset = torch.utils.data.Subset(whole_dataset,idxs_test)"
   ]
  },
  {
   "cell_type": "code",
   "execution_count": 3,
   "id": "f1d3931a",
   "metadata": {},
   "outputs": [
    {
     "name": "stderr",
     "output_type": "stream",
     "text": [
      "/Users/aammor/miniforge3/envs/aa_env/lib/python3.8/site-packages/torchtext/data/utils.py:105: UserWarning: Spacy model \"en\" could not be loaded, trying \"en_core_web_sm\" instead\n",
      "  warnings.warn(\n"
     ]
    }
   ],
   "source": [
    "from translation_machine import dataset_mod,collate_fn_mod,sentence_mod\n",
    "\n",
    "from itertools import islice\n",
    "train_dataset_as_sentence = dataset_mod.SentenceDataSet(train_dataset,\n",
    "                                                        sentence_mod.EnglishSentence,\n",
    "                                                        sentence_mod.FrenchSentence)\n",
    "\n",
    "\n"
   ]
  },
  {
   "cell_type": "code",
   "execution_count": 4,
   "id": "f4ef6741",
   "metadata": {},
   "outputs": [],
   "source": [
    "language_info = torch.load(\"../models/language_info.pth\")\n",
    "\n",
    "vocab_src = language_info[\"english\"][\"vocab\"]\n",
    "vocab_dst = language_info[\"french\"][\"vocab\"]\n",
    "from torchtext.data.utils import get_tokenizer\n",
    "# we use the same tokenizer for english and \n",
    "tokenizer = get_tokenizer('spacy', language='en')\n",
    "src_tokenizer,dst_tokenizer = tokenizer,tokenizer\n"
   ]
  },
  {
   "cell_type": "code",
   "execution_count": 5,
   "id": "36d28609",
   "metadata": {},
   "outputs": [],
   "source": [
    "from translation_machine import collate_fn_mod\n",
    "from itertools import cycle\n",
    "\n",
    "max_length_src,max_length_dst = 100,100\n",
    "collate_fn = collate_fn_mod.get_collate_fn(max_length_src,max_length_dst)\n",
    "\n",
    "collate_fn_standard = collate_fn_mod.get_collate_fn_standard(vocab_src,vocab_dst,src_tokenizer,dst_tokenizer,max_length_src,max_length_dst)"
   ]
  },
  {
   "cell_type": "code",
   "execution_count": 14,
   "id": "db207e59",
   "metadata": {},
   "outputs": [],
   "source": [
    "batch_size = 30\n",
    "max_iter = 100\n",
    "\n",
    "N = min(int(len(train_dataset)/batch_size),max_iter)\n"
   ]
  },
  {
   "cell_type": "code",
   "execution_count": 15,
   "id": "701a6e83",
   "metadata": {},
   "outputs": [],
   "source": [
    "from torch.utils.data import DataLoader\n",
    "train_data_loader = DataLoader(train_dataset_as_sentence,batch_size=batch_size,collate_fn=collate_fn)\n",
    "train_data_loader_standard = DataLoader(train_dataset,batch_size=batch_size,collate_fn=collate_fn_standard)\n"
   ]
  },
  {
   "cell_type": "code",
   "execution_count": 16,
   "id": "160eaa2b",
   "metadata": {},
   "outputs": [
    {
     "name": "stdout",
     "output_type": "stream",
     "text": [
      "CPU times: user 96.4 ms, sys: 1.3 ms, total: 97.7 ms\n",
      "Wall time: 96.9 ms\n"
     ]
    }
   ],
   "source": [
    "%%time\n",
    "\n",
    "res = [el for el in islice(train_data_loader,100)]"
   ]
  },
  {
   "cell_type": "code",
   "execution_count": 17,
   "id": "ff8794e9",
   "metadata": {},
   "outputs": [
    {
     "name": "stdout",
     "output_type": "stream",
     "text": [
      "CPU times: user 90.9 ms, sys: 1.03 ms, total: 92 ms\n",
      "Wall time: 91.2 ms\n"
     ]
    }
   ],
   "source": [
    "%%time\n",
    "\n",
    "res = [el for el in islice(train_data_loader_standard,100)]"
   ]
  },
  {
   "cell_type": "code",
   "execution_count": null,
   "id": "a8648141",
   "metadata": {},
   "outputs": [],
   "source": []
  }
 ],
 "metadata": {
  "kernelspec": {
   "display_name": "Python 3 (ipykernel)",
   "language": "python",
   "name": "python3"
  },
  "language_info": {
   "codemirror_mode": {
    "name": "ipython",
    "version": 3
   },
   "file_extension": ".py",
   "mimetype": "text/x-python",
   "name": "python",
   "nbconvert_exporter": "python",
   "pygments_lexer": "ipython3",
   "version": "3.8.10"
  }
 },
 "nbformat": 4,
 "nbformat_minor": 5
}
